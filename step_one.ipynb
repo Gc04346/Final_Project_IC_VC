{
  "nbformat": 4,
  "nbformat_minor": 5,
  "metadata": {
    "kernelspec": {
      "display_name": "Python 3",
      "language": "python",
      "name": "python3"
    },
    "language_info": {
      "codemirror_mode": {
        "name": "ipython",
        "version": 3
      },
      "file_extension": ".py",
      "mimetype": "text/x-python",
      "name": "python",
      "nbconvert_exporter": "python",
      "pygments_lexer": "ipython3",
      "version": "3.6.9"
    },
    "colab": {
      "name": "step_one.ipynb",
      "provenance": []
    }
  },
  "cells": [
    {
      "cell_type": "code",
      "metadata": {
        "id": "bb494821"
      },
      "source": [
        "import tensorflow as tf\n",
        "from tensorflow import keras\n",
        "from tensorflow.keras import Sequential\n",
        "from tensorflow.keras.layers import Dense,Conv2D,MaxPooling2D,Flatten,Dropout\n",
        "from tensorflow.keras.preprocessing.image import ImageDataGenerator\n",
        "\n",
        "from tensorflow.keras.callbacks import EarlyStopping\n",
        "import pandas as pd"
      ],
      "id": "bb494821",
      "execution_count": 1,
      "outputs": []
    },
    {
      "cell_type": "code",
      "metadata": {
        "id": "GdnFJ5GKAzmW",
        "outputId": "d061e033-2912-420a-d6b7-2027547cc1d5",
        "colab": {
          "base_uri": "https://localhost:8080/"
        }
      },
      "source": [
        "from google.colab import drive\n",
        "drive.mount('/content/drive')"
      ],
      "id": "GdnFJ5GKAzmW",
      "execution_count": 3,
      "outputs": [
        {
          "output_type": "stream",
          "text": [
            "Mounted at /content/drive\n"
          ],
          "name": "stdout"
        }
      ]
    },
    {
      "cell_type": "code",
      "metadata": {
        "id": "5FS7dZA6CFII"
      },
      "source": [
        "# extraindo o zip\n",
        "import os\n",
        "import zipfile\n",
        "with zipfile.ZipFile('/content/drive/MyDrive/dataset.zip', 'r') as zip_ref:\n",
        "    zip_ref.extractall('/tmp/office_not_office')"
      ],
      "id": "5FS7dZA6CFII",
      "execution_count": 4,
      "outputs": []
    },
    {
      "cell_type": "code",
      "metadata": {
        "id": "kjudHZwTCI6F"
      },
      "source": [
        "# definindo os paths no /tmp da virtual machine do Colab\n",
        "base_dir = '/tmp/office_not_office/dataset'\n",
        "train_dir = os.path.join(base_dir, 'training_set')\n",
        "test_dir = os.path.join(base_dir, 'test_set')"
      ],
      "id": "kjudHZwTCI6F",
      "execution_count": 5,
      "outputs": []
    },
    {
      "cell_type": "code",
      "metadata": {
        "id": "hzvSbk30CNK6",
        "outputId": "cc4726f5-2612-449e-d686-e9bc662c30da",
        "colab": {
          "base_uri": "https://localhost:8080/"
        }
      },
      "source": [
        "# definindo set de treino\n",
        "training_set = tf.keras.preprocessing.image_dataset_from_directory(\n",
        "train_dir,\n",
        "seed=101,\n",
        "image_size=(400, 400),\n",
        "batch_size=32)"
      ],
      "id": "hzvSbk30CNK6",
      "execution_count": 7,
      "outputs": [
        {
          "output_type": "stream",
          "text": [
            "Found 373 files belonging to 2 classes.\n"
          ],
          "name": "stdout"
        }
      ]
    },
    {
      "cell_type": "code",
      "metadata": {
        "id": "3NsNsW-7CluS",
        "outputId": "07358545-85fb-4a64-d9dc-bb431c4bb0ea",
        "colab": {
          "base_uri": "https://localhost:8080/"
        }
      },
      "source": [
        "# definindo set de teste\n",
        "validation_set = tf.keras.preprocessing.image_dataset_from_directory(\n",
        "test_dir,\n",
        "seed=101,\n",
        "image_size=(400, 400),\n",
        "batch_size=32)"
      ],
      "id": "3NsNsW-7CluS",
      "execution_count": 8,
      "outputs": [
        {
          "output_type": "stream",
          "text": [
            "Found 84 files belonging to 2 classes.\n"
          ],
          "name": "stdout"
        }
      ]
    },
    {
      "cell_type": "code",
      "metadata": {
        "id": "2IzkciTqCpqT",
        "outputId": "3df80a3e-b9c4-4090-9948-c389849e7278",
        "colab": {
          "base_uri": "https://localhost:8080/"
        }
      },
      "source": [
        "# testando se o set de treino veio certinho. o output correto deve ser ['office', 'not_office']\n",
        "class_names = training_set.class_names\n",
        "class_names"
      ],
      "id": "2IzkciTqCpqT",
      "execution_count": 9,
      "outputs": [
        {
          "output_type": "execute_result",
          "data": {
            "text/plain": [
              "['not_office', 'office']"
            ]
          },
          "metadata": {
            "tags": []
          },
          "execution_count": 9
        }
      ]
    },
    {
      "cell_type": "code",
      "metadata": {
        "id": "3CMo-iw6C25H"
      },
      "source": [
        "# obtendo um modelo de aleatorizacao de imagens para evitar overfit\n",
        "data_augmentation = keras.Sequential(\n",
        "  [\n",
        "    tf.keras.layers.experimental.preprocessing.RandomFlip(\"horizontal\", input_shape=(400, 400, 3)),\n",
        "    tf.keras.layers.experimental.preprocessing.RandomRotation(0.2),\n",
        "    tf.keras.layers.experimental.preprocessing.RandomZoom(0.2),\n",
        "  ]\n",
        ")"
      ],
      "id": "3CMo-iw6C25H",
      "execution_count": 10,
      "outputs": []
    },
    {
      "cell_type": "code",
      "metadata": {
        "id": "Q76937LJ_GoG"
      },
      "source": [
        "# CNN com Dropout e BatchNormalization para acelerar o treino\n",
        "\n",
        "model = Sequential([\n",
        "    data_augmentation,\n",
        "    tf.keras.layers.experimental.preprocessing.Rescaling(1./255),\n",
        "    Conv2D(filters=32,kernel_size=(3,3), activation='relu'),\n",
        "    MaxPooling2D(pool_size=(2,2)),\n",
        "\n",
        "    Conv2D(filters=32,kernel_size=(3,3), activation='relu'),\n",
        "    MaxPooling2D(pool_size=(2,2)),\n",
        "    Dropout(0.25),\n",
        "\n",
        "    Conv2D(filters=64,kernel_size=(3,3), activation='relu'),\n",
        "    MaxPooling2D(pool_size=(2,2)),\n",
        "    Dropout(0.25),\n",
        "\n",
        "    Flatten(),\n",
        "    Dense(128, activation='relu'),\n",
        "    Dropout(0.25),\n",
        "    tf.keras.layers.BatchNormalization(),  # não tenho certeza se esta linha deveria vir antes ou depois do Dropout\n",
        "    Dense(1, activation='sigmoid')\n",
        "])"
      ],
      "id": "Q76937LJ_GoG",
      "execution_count": 11,
      "outputs": []
    },
    {
      "cell_type": "code",
      "metadata": {
        "id": "IgzD-AeQ9vI2"
      },
      "source": [
        "# Compilando o modelo\n",
        "model.compile(optimizer='adam',\n",
        "              loss=keras.losses.BinaryCrossentropy(from_logits=True),\n",
        "              metrics=[keras.metrics.BinaryAccuracy()])"
      ],
      "id": "IgzD-AeQ9vI2",
      "execution_count": 12,
      "outputs": []
    },
    {
      "cell_type": "code",
      "metadata": {
        "id": "PaahLxUt-GBL"
      },
      "source": [
        "# Definindo callbacks para Early Stopping e para Checkpoints que salvam o melhor modelo\n",
        "checkpoint_filepath = '/tmp/checkpoint'\n",
        "model_checkpoint_callback = tf.keras.callbacks.ModelCheckpoint(\n",
        "    filepath=checkpoint_filepath,\n",
        "    save_weights_only=False,\n",
        "    monitor='loss',\n",
        "    mode='min',\n",
        "    save_best_only=True)\n",
        "\n",
        "callbacks = [\n",
        "             EarlyStopping(patience=2),\n",
        "             model_checkpoint_callback,\n",
        "]"
      ],
      "id": "PaahLxUt-GBL",
      "execution_count": 13,
      "outputs": []
    },
    {
      "cell_type": "code",
      "metadata": {
        "id": "ESnF6LaQ-X_P",
        "colab": {
          "base_uri": "https://localhost:8080/"
        },
        "outputId": "e235395c-dee2-4fb9-a724-58452ba436be"
      },
      "source": [
        "# Treinando o modelo\n",
        "\n",
        "history = model.fit(training_set,validation_data=validation_set, epochs=600,callbacks=callbacks)"
      ],
      "id": "ESnF6LaQ-X_P",
      "execution_count": 14,
      "outputs": [
        {
          "output_type": "stream",
          "text": [
            "Epoch 1/600\n",
            "12/12 [==============================] - 90s 7s/step - loss: 0.8880 - binary_accuracy: 0.5234 - val_loss: 4.2325 - val_binary_accuracy: 0.5238\n",
            "INFO:tensorflow:Assets written to: /tmp/checkpoint/assets\n",
            "Epoch 2/600\n",
            "12/12 [==============================] - 86s 7s/step - loss: 0.7525 - binary_accuracy: 0.5471 - val_loss: 2.3415 - val_binary_accuracy: 0.5238\n",
            "INFO:tensorflow:Assets written to: /tmp/checkpoint/assets\n",
            "Epoch 3/600\n",
            "12/12 [==============================] - 85s 7s/step - loss: 0.7841 - binary_accuracy: 0.5534 - val_loss: 0.8790 - val_binary_accuracy: 0.5238\n",
            "INFO:tensorflow:Assets written to: /tmp/checkpoint/assets\n",
            "Epoch 4/600\n",
            "12/12 [==============================] - 85s 7s/step - loss: 0.6730 - binary_accuracy: 0.6097 - val_loss: 0.8664 - val_binary_accuracy: 0.5238\n",
            "INFO:tensorflow:Assets written to: /tmp/checkpoint/assets\n",
            "Epoch 5/600\n",
            "12/12 [==============================] - 86s 7s/step - loss: 0.6621 - binary_accuracy: 0.6134 - val_loss: 0.6278 - val_binary_accuracy: 0.6310\n",
            "Epoch 6/600\n",
            "12/12 [==============================] - 86s 7s/step - loss: 0.5612 - binary_accuracy: 0.7296 - val_loss: 1.6228 - val_binary_accuracy: 0.4762\n",
            "INFO:tensorflow:Assets written to: /tmp/checkpoint/assets\n",
            "Epoch 7/600\n",
            "12/12 [==============================] - 85s 7s/step - loss: 0.6171 - binary_accuracy: 0.6897 - val_loss: 0.7000 - val_binary_accuracy: 0.6310\n"
          ],
          "name": "stdout"
        }
      ]
    },
    {
      "cell_type": "code",
      "metadata": {
        "id": "O0rw1wlJ-ju-"
      },
      "source": [
        "# Plotando metricas\n",
        "metrics_df = pd.DataFrame(history.history)"
      ],
      "id": "O0rw1wlJ-ju-",
      "execution_count": 15,
      "outputs": []
    },
    {
      "cell_type": "code",
      "metadata": {
        "id": "3vgv10Uj-xwb",
        "colab": {
          "base_uri": "https://localhost:8080/",
          "height": 265
        },
        "outputId": "f65d4a03-0939-4cab-fa28-6a95937a4ae6"
      },
      "source": [
        "metrics_df[[\"loss\",\"val_loss\"]].plot();"
      ],
      "id": "3vgv10Uj-xwb",
      "execution_count": 16,
      "outputs": [
        {
          "output_type": "display_data",
          "data": {
            "image/png": "[encoded data removed]",
            "text/plain": [
              "<Figure size 432x288 with 1 Axes>"
            ]
          },
          "metadata": {
            "tags": [],
            "needs_background": "light"
          }
        }
      ]
    },
    {
      "cell_type": "code",
      "metadata": {
        "id": "N5SKo0ox-y-o",
        "colab": {
          "base_uri": "https://localhost:8080/",
          "height": 265
        },
        "outputId": "65a98111-eb15-4c1f-8acf-d35df2f9e3eb"
      },
      "source": [
        "metrics_df[[\"binary_accuracy\",\"val_binary_accuracy\"]].plot();"
      ],
      "id": "N5SKo0ox-y-o",
      "execution_count": 19,
      "outputs": [
        {
          "output_type": "display_data",
          "data": {
            "image/png": "[encoded data removed]",
            "text/plain": [
              "<Figure size 432x288 with 1 Axes>"
            ]
          },
          "metadata": {
            "tags": [],
            "needs_background": "light"
          }
        }
      ]
    },
    {
      "cell_type": "code",
      "metadata": {
        "id": "4jEJQVk5DvbY",
        "outputId": "546b8c09-853e-4457-983c-a147302bd5d7",
        "colab": {
          "base_uri": "https://localhost:8080/"
        }
      },
      "source": [
        "# Avaliação do modelo\n",
        "loss, accuracy = model.evaluate(validation_set)\n",
        "print('Accuracy on test dataset:', accuracy) "
      ],
      "id": "4jEJQVk5DvbY",
      "execution_count": 18,
      "outputs": [
        {
          "output_type": "stream",
          "text": [
            "3/3 [==============================] - 5s 1s/step - loss: 0.7000 - binary_accuracy: 0.6310\n",
            "Accuracy on test dataset: 0.6309523582458496\n"
          ],
          "name": "stdout"
        }
      ]
    }
  ]
}