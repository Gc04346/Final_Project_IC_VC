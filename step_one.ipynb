{
  "nbformat": 4,
  "nbformat_minor": 5,
  "metadata": {
    "kernelspec": {
      "display_name": "Python 3",
      "language": "python",
      "name": "python3"
    },
    "language_info": {
      "codemirror_mode": {
        "name": "ipython",
        "version": 3
      },
      "file_extension": ".py",
      "mimetype": "text/x-python",
      "name": "python",
      "nbconvert_exporter": "python",
      "pygments_lexer": "ipython3",
      "version": "3.6.9"
    },
    "colab": {
      "name": "step_one.ipynb",
      "provenance": []
    }
  },
  "cells": [
    {
      "cell_type": "code",
      "metadata": {
        "id": "bb494821"
      },
      "source": [
        "import tensorflow as tf\n",
        "from tensorflow import keras\n",
        "from tensorflow.keras import Sequential\n",
        "from tensorflow.keras.layers import Dense,Conv2D,MaxPooling2D,Flatten,Dropout\n",
        "from tensorflow.keras.preprocessing.image import ImageDataGenerator\n",
        "\n",
        "from tensorflow.keras.callbacks import EarlyStopping\n",
        "import pandas as pd"
      ],
      "id": "bb494821",
      "execution_count": 16,
      "outputs": []
    },
    {
      "cell_type": "code",
      "metadata": {
        "id": "fkKPCaRhB-pC"
      },
      "source": [
        "# wget no drive para baixar o zip do dataset\n",
        "!wget --no-check-certificate \\ https://meulink.com \\ -O /tmp/office_not_office.zip"
      ],
      "id": "fkKPCaRhB-pC",
      "execution_count": null,
      "outputs": []
    },
    {
      "cell_type": "code",
      "metadata": {
        "id": "5FS7dZA6CFII"
      },
      "source": [
        "# extraindo o zip\n",
        "import os\n",
        "import zipfile\n",
        "with zipfile.ZipFile('/tmp/office_not_office.zip', 'r') as zip_ref:\n",
        "    zip_ref.extractall('/tmp/office_not_office')"
      ],
      "id": "5FS7dZA6CFII",
      "execution_count": null,
      "outputs": []
    },
    {
      "cell_type": "code",
      "metadata": {
        "id": "kjudHZwTCI6F"
      },
      "source": [
        "# definindo os paths no /tmp da virtual machine do Colab\n",
        "base_dir = '/tmp/office_not_office/dataset'\n",
        "train_dir = os.path.join(base_dir, 'training_set')\n",
        "test_dir = os.path.join(base_dir, 'test_set')"
      ],
      "id": "kjudHZwTCI6F",
      "execution_count": null,
      "outputs": []
    },
    {
      "cell_type": "code",
      "metadata": {
        "id": "hzvSbk30CNK6"
      },
      "source": [
        "# definindo set de treino\n",
        "training_set = tf.keras.preprocessing.image_dataset_from_directory(\n",
        "train_dir,\n",
        "seed=101,\n",
        "image_size=(200, 200),\n",
        "batch_size=32)"
      ],
      "id": "hzvSbk30CNK6",
      "execution_count": null,
      "outputs": []
    },
    {
      "cell_type": "code",
      "metadata": {
        "id": "3NsNsW-7CluS"
      },
      "source": [
        "# definindo set de teste\n",
        "validation_set = tf.keras.preprocessing.image_dataset_from_directory(\n",
        "test_dir,\n",
        "seed=101,\n",
        "image_size=(200, 200),\n",
        "batch_size=32)"
      ],
      "id": "3NsNsW-7CluS",
      "execution_count": null,
      "outputs": []
    },
    {
      "cell_type": "code",
      "metadata": {
        "id": "2IzkciTqCpqT"
      },
      "source": [
        "# testando se o set de treino veio certinho. o output correto deve ser ['office', 'not_office']\n",
        "class_names = training_set.class_names\n",
        "class_names"
      ],
      "id": "2IzkciTqCpqT",
      "execution_count": null,
      "outputs": []
    },
    {
      "cell_type": "code",
      "metadata": {
        "id": "3CMo-iw6C25H"
      },
      "source": [
        "# obtendo um modelo de aleatorizacao de imagens para evitar overfit\n",
        "data_augmentation = keras.Sequential(\n",
        "  [\n",
        "    tf.keras.layers.experimental.preprocessing.RandomFlip(\"horizontal\", input_shape=(200, 200, 3)),\n",
        "    tf.keras.layers.experimental.preprocessing.RandomRotation(0.2),\n",
        "    tf.keras.layers.experimental.preprocessing.RandomZoom(0.2),\n",
        "  ]\n",
        ")"
      ],
      "id": "3CMo-iw6C25H",
      "execution_count": null,
      "outputs": []
    },
    {
      "cell_type": "code",
      "metadata": {
        "id": "Q76937LJ_GoG"
      },
      "source": [
        "# CNN com Dropout e BatchNormalization para acelerar o treino\n",
        "\n",
        "model = Sequential([\n",
        "    data_augmentation,\n",
        "    tf.keras.layers.experimental.preprocessing.Rescaling(1./255),\n",
        "    Conv2D(filters=32,kernel_size=(3,3), activation='relu'),\n",
        "    MaxPooling2D(pool_size=(2,2)),\n",
        "\n",
        "    Conv2D(filters=32,kernel_size=(3,3), activation='relu'),\n",
        "    MaxPooling2D(pool_size=(2,2)),\n",
        "    Dropout(0.25),\n",
        "\n",
        "    Conv2D(filters=64,kernel_size=(3,3), activation='relu'),\n",
        "    MaxPooling2D(pool_size=(2,2)),\n",
        "    Dropout(0.25),\n",
        "\n",
        "    Flatten(),\n",
        "    Dense(128, activation='relu'),\n",
        "    Dropout(0.25),\n",
        "    tf.keras.layers.BatchNormalization(),  # não tenho certeza se esta linha deveria vir antes ou depois do Dropout\n",
        "    Dense(1, activation='sigmoid')\n",
        "])"
      ],
      "id": "Q76937LJ_GoG",
      "execution_count": null,
      "outputs": []
    },
    {
      "cell_type": "code",
      "metadata": {
        "id": "IgzD-AeQ9vI2"
      },
      "source": [
        "# Compilando o modelo\n",
        "model.compile(optimizer='adam',\n",
        "              loss=keras.losses.BinaryCrossentropy(from_logits=True),\n",
        "              metrics=[keras.metrics.BinaryAccuracy()])"
      ],
      "id": "IgzD-AeQ9vI2",
      "execution_count": 11,
      "outputs": []
    },
    {
      "cell_type": "code",
      "metadata": {
        "id": "PaahLxUt-GBL"
      },
      "source": [
        "# Definindo callbacks para Early Stopping e para Checkpoints que salvam o melhor modelo\n",
        "checkpoint_filepath = '/tmp/checkpoint'\n",
        "model_checkpoint_callback = tf.keras.callbacks.ModelCheckpoint(\n",
        "    filepath=checkpoint_filepath,\n",
        "    save_weights_only=False,\n",
        "    monitor='loss',\n",
        "    mode='min',\n",
        "    save_best_only=True)\n",
        "\n",
        "callbacks = [\n",
        "             EarlyStopping(patience=2),\n",
        "             model_checkpoint_callback,\n",
        "]"
      ],
      "id": "PaahLxUt-GBL",
      "execution_count": 14,
      "outputs": []
    },
    {
      "cell_type": "code",
      "metadata": {
        "id": "ESnF6LaQ-X_P",
        "outputId": "dcd21db4-87cf-4647-83e4-cd82bbe25b09",
        "colab": {
          "base_uri": "https://localhost:8080/"
        }
      },
      "source": [
        "# Treinando o modelo\n",
        "history = model.fit(training_set,validation_data=validation_set, epochs=600,callbacks=callbacks)"
      ],
      "id": "ESnF6LaQ-X_P",
      "execution_count": 15,
      "outputs": [
        {
          "output_type": "stream",
          "text": [
            "Epoch 1/600\n",
            "1563/1563 [==============================] - 94s 60ms/step - loss: 1.5877 - accuracy: 0.4234 - val_loss: 1.0742 - val_accuracy: 0.6264\n",
            "INFO:tensorflow:Assets written to: /tmp/checkpoint/assets\n",
            "Epoch 2/600\n",
            "1563/1563 [==============================] - 90s 58ms/step - loss: 1.0272 - accuracy: 0.6413 - val_loss: 0.9592 - val_accuracy: 0.6663\n",
            "INFO:tensorflow:Assets written to: /tmp/checkpoint/assets\n",
            "Epoch 3/600\n",
            "1563/1563 [==============================] - 95s 61ms/step - loss: 0.8542 - accuracy: 0.7021 - val_loss: 0.9008 - val_accuracy: 0.6854\n",
            "INFO:tensorflow:Assets written to: /tmp/checkpoint/assets\n",
            "Epoch 4/600\n",
            "1563/1563 [==============================] - 95s 61ms/step - loss: 0.7395 - accuracy: 0.7394 - val_loss: 0.9160 - val_accuracy: 0.6830\n",
            "INFO:tensorflow:Assets written to: /tmp/checkpoint/assets\n",
            "Epoch 5/600\n",
            "1563/1563 [==============================] - 96s 61ms/step - loss: 0.6532 - accuracy: 0.7701 - val_loss: 0.8984 - val_accuracy: 0.6993\n",
            "INFO:tensorflow:Assets written to: /tmp/checkpoint/assets\n",
            "Epoch 6/600\n",
            "1563/1563 [==============================] - 95s 61ms/step - loss: 0.5667 - accuracy: 0.8010 - val_loss: 0.8856 - val_accuracy: 0.7024\n",
            "INFO:tensorflow:Assets written to: /tmp/checkpoint/assets\n",
            "Epoch 7/600\n",
            "1563/1563 [==============================] - 96s 62ms/step - loss: 0.4880 - accuracy: 0.8297 - val_loss: 0.9259 - val_accuracy: 0.7062\n",
            "INFO:tensorflow:Assets written to: /tmp/checkpoint/assets\n",
            "Epoch 8/600\n",
            "1563/1563 [==============================] - 96s 61ms/step - loss: 0.4130 - accuracy: 0.8589 - val_loss: 0.9964 - val_accuracy: 0.6979\n",
            "INFO:tensorflow:Assets written to: /tmp/checkpoint/assets\n"
          ],
          "name": "stdout"
        }
      ]
    },
    {
      "cell_type": "code",
      "metadata": {
        "id": "O0rw1wlJ-ju-"
      },
      "source": [
        "# Plotando metricas\n",
        "metrics_df = pd.DataFrame(history.history)"
      ],
      "id": "O0rw1wlJ-ju-",
      "execution_count": 17,
      "outputs": []
    },
    {
      "cell_type": "code",
      "metadata": {
        "id": "3vgv10Uj-xwb",
        "outputId": "09bd1cea-21e5-489d-f398-83e88ee7a1fb",
        "colab": {
          "base_uri": "https://localhost:8080/",
          "height": 265
        }
      },
      "source": [
        "metrics_df[[\"loss\",\"val_loss\"]].plot();"
      ],
      "id": "3vgv10Uj-xwb",
      "execution_count": 18,
      "outputs": [
        {
          "output_type": "display_data",
          "data": {
            "image/png": "[encoded data removed]",
            "text/plain": [
              "<Figure size 432x288 with 1 Axes>"
            ]
          },
          "metadata": {
            "tags": [],
            "needs_background": "light"
          }
        }
      ]
    },
    {
      "cell_type": "code",
      "metadata": {
        "id": "N5SKo0ox-y-o",
        "outputId": "4db41f2e-399d-4f06-cf64-e2e2b0a3560c",
        "colab": {
          "base_uri": "https://localhost:8080/",
          "height": 265
        }
      },
      "source": [
        "metrics_df[[\"accuracy\",\"val_accuracy\"]].plot();"
      ],
      "id": "N5SKo0ox-y-o",
      "execution_count": 19,
      "outputs": [
        {
          "output_type": "display_data",
          "data": {
            "image/png": "[encoded data removed]",
            "text/plain": [
              "<Figure size 432x288 with 1 Axes>"
            ]
          },
          "metadata": {
            "tags": [],
            "needs_background": "light"
          }
        }
      ]
    },
    {
      "cell_type": "code",
      "metadata": {
        "id": "4jEJQVk5DvbY"
      },
      "source": [
        "# Avaliação do modelo\n",
        "loss, accuracy = model.evaluate(validation_set)\n",
        "print('Accuracy on test dataset:', accuracy)"
      ],
      "id": "4jEJQVk5DvbY",
      "execution_count": null,
      "outputs": []
    }
  ]
}