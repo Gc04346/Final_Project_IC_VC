{
  "nbformat": 4,
  "nbformat_minor": 5,
  "metadata": {
    "kernelspec": {
      "display_name": "Python 3",
      "language": "python",
      "name": "python3"
    },
    "language_info": {
      "codemirror_mode": {
        "name": "ipython",
        "version": 3
      },
      "file_extension": ".py",
      "mimetype": "text/x-python",
      "name": "python",
      "nbconvert_exporter": "python",
      "pygments_lexer": "ipython3",
      "version": "3.6.9"
    },
    "colab": {
      "name": "step_one.ipynb",
      "provenance": []
    }
  },
  "cells": [
    {
      "cell_type": "code",
      "metadata": {
        "id": "bb494821"
      },
      "source": [
        "import tensorflow as tf\n",
        "from tensorflow import keras\n",
        "from tensorflow.keras import Sequential\n",
        "from tensorflow.keras.layers import Dense,Conv2D,MaxPooling2D,Flatten,Dropout\n",
        "from tensorflow.keras.preprocessing.image import ImageDataGenerator\n",
        "\n",
        "from tensorflow.keras.callbacks import EarlyStopping\n",
        "import pandas as pd"
      ],
      "id": "bb494821",
      "execution_count": 1,
      "outputs": []
    },
    {
      "cell_type": "code",
      "metadata": {
        "id": "GdnFJ5GKAzmW",
        "colab": {
          "base_uri": "https://localhost:8080/"
        },
        "outputId": "fa130bac-7c21-4046-f46d-f6120f06cc56"
      },
      "source": [
        "from google.colab import drive\n",
        "drive.mount('/content/drive')"
      ],
      "id": "GdnFJ5GKAzmW",
      "execution_count": 2,
      "outputs": [
        {
          "output_type": "stream",
          "text": [
            "Mounted at /content/drive\n"
          ],
          "name": "stdout"
        }
      ]
    },
    {
      "cell_type": "code",
      "metadata": {
        "id": "5FS7dZA6CFII"
      },
      "source": [
        "# extraindo o zip\n",
        "import os\n",
        "import zipfile\n",
        "with zipfile.ZipFile('/content/drive/MyDrive/dataset.zip', 'r') as zip_ref:\n",
        "    zip_ref.extractall('/tmp/office_not_office')"
      ],
      "id": "5FS7dZA6CFII",
      "execution_count": 3,
      "outputs": []
    },
    {
      "cell_type": "code",
      "metadata": {
        "id": "kjudHZwTCI6F"
      },
      "source": [
        "# definindo os paths no /tmp da virtual machine do Colab\n",
        "base_dir = '/tmp/office_not_office/dataset'\n",
        "train_dir = os.path.join(base_dir, 'training_set')\n",
        "test_dir = os.path.join(base_dir, 'test_set')"
      ],
      "id": "kjudHZwTCI6F",
      "execution_count": 4,
      "outputs": []
    },
    {
      "cell_type": "code",
      "metadata": {
        "id": "hzvSbk30CNK6",
        "colab": {
          "base_uri": "https://localhost:8080/"
        },
        "outputId": "27aa919a-f118-48e9-d521-27a743355a5f"
      },
      "source": [
        "# definindo set de treino\n",
        "training_set = tf.keras.preprocessing.image_dataset_from_directory(\n",
        "train_dir,\n",
        "seed=101,\n",
        "image_size=(400, 400),\n",
        "batch_size=32)"
      ],
      "id": "hzvSbk30CNK6",
      "execution_count": 5,
      "outputs": [
        {
          "output_type": "stream",
          "text": [
            "Found 450 files belonging to 2 classes.\n"
          ],
          "name": "stdout"
        }
      ]
    },
    {
      "cell_type": "code",
      "metadata": {
        "id": "3NsNsW-7CluS",
        "colab": {
          "base_uri": "https://localhost:8080/"
        },
        "outputId": "42218dab-fd65-40dc-fe2c-9a20fa97a6c9"
      },
      "source": [
        "# definindo set de teste\n",
        "validation_set = tf.keras.preprocessing.image_dataset_from_directory(\n",
        "test_dir,\n",
        "seed=101,\n",
        "image_size=(400, 400),\n",
        "batch_size=32)"
      ],
      "id": "3NsNsW-7CluS",
      "execution_count": 6,
      "outputs": [
        {
          "output_type": "stream",
          "text": [
            "Found 170 files belonging to 2 classes.\n"
          ],
          "name": "stdout"
        }
      ]
    },
    {
      "cell_type": "code",
      "metadata": {
        "id": "2IzkciTqCpqT",
        "colab": {
          "base_uri": "https://localhost:8080/"
        },
        "outputId": "11258271-4a29-48f0-e1a1-9d4b210ea2f2"
      },
      "source": [
        "# testando se o set de treino veio certinho. o output correto deve ser ['office', 'not_office']\n",
        "class_names = training_set.class_names\n",
        "class_names"
      ],
      "id": "2IzkciTqCpqT",
      "execution_count": 7,
      "outputs": [
        {
          "output_type": "execute_result",
          "data": {
            "text/plain": [
              "['not_office', 'office']"
            ]
          },
          "metadata": {
            "tags": []
          },
          "execution_count": 7
        }
      ]
    },
    {
      "cell_type": "code",
      "metadata": {
        "id": "3CMo-iw6C25H"
      },
      "source": [
        "# obtendo um modelo de aleatorizacao de imagens para evitar overfit\n",
        "data_augmentation = keras.Sequential(\n",
        "  [\n",
        "    tf.keras.layers.experimental.preprocessing.RandomFlip(\"horizontal\", input_shape=(400, 400, 3)),\n",
        "    tf.keras.layers.experimental.preprocessing.RandomRotation(0.2),\n",
        "    tf.keras.layers.experimental.preprocessing.RandomZoom(0.2),\n",
        "  ]\n",
        ")"
      ],
      "id": "3CMo-iw6C25H",
      "execution_count": 8,
      "outputs": []
    },
    {
      "cell_type": "code",
      "metadata": {
        "id": "Q76937LJ_GoG"
      },
      "source": [
        "# CNN com Dropout e BatchNormalization para acelerar o treino\n",
        "\n",
        "model = Sequential([\n",
        "    data_augmentation,\n",
        "    tf.keras.layers.experimental.preprocessing.Rescaling(1./255),\n",
        "    Conv2D(filters=32,kernel_size=(3,3), activation='relu'),\n",
        "    MaxPooling2D(pool_size=(2,2)),\n",
        "\n",
        "    Conv2D(filters=32,kernel_size=(3,3), activation='relu'),\n",
        "    MaxPooling2D(pool_size=(2,2)),\n",
        "    Dropout(0.25),\n",
        "\n",
        "    Conv2D(filters=64,kernel_size=(3,3), activation='relu'),\n",
        "    MaxPooling2D(pool_size=(2,2)),\n",
        "    Dropout(0.25),\n",
        "\n",
        "    Flatten(),\n",
        "    Dense(128, activation='relu'),\n",
        "    Dropout(0.25),\n",
        "    tf.keras.layers.BatchNormalization(),  # não tenho certeza se esta linha deveria vir antes ou depois do Dropout\n",
        "    Dense(1, activation='sigmoid')\n",
        "])"
      ],
      "id": "Q76937LJ_GoG",
      "execution_count": 9,
      "outputs": []
    },
    {
      "cell_type": "code",
      "metadata": {
        "id": "IgzD-AeQ9vI2"
      },
      "source": [
        "# Compilando o modelo\n",
        "model.compile(optimizer='adam',\n",
        "              loss=keras.losses.BinaryCrossentropy(from_logits=True),\n",
        "              metrics=[keras.metrics.BinaryAccuracy()])"
      ],
      "id": "IgzD-AeQ9vI2",
      "execution_count": 10,
      "outputs": []
    },
    {
      "cell_type": "code",
      "metadata": {
        "id": "PaahLxUt-GBL"
      },
      "source": [
        "# Definindo callbacks para Early Stopping e para Checkpoints que salvam o melhor modelo\n",
        "checkpoint_filepath = '/tmp/checkpoint'\n",
        "model_checkpoint_callback = tf.keras.callbacks.ModelCheckpoint(\n",
        "    filepath=checkpoint_filepath,\n",
        "    save_weights_only=False,\n",
        "    monitor='loss',\n",
        "    mode='min',\n",
        "    save_best_only=True)\n",
        "\n",
        "callbacks = [\n",
        "             EarlyStopping(patience=2),\n",
        "             model_checkpoint_callback,\n",
        "]"
      ],
      "id": "PaahLxUt-GBL",
      "execution_count": 11,
      "outputs": []
    },
    {
      "cell_type": "code",
      "metadata": {
        "id": "ESnF6LaQ-X_P",
        "colab": {
          "base_uri": "https://localhost:8080/"
        },
        "outputId": "b579d85f-5f8c-4d13-f9b8-0931073f827a"
      },
      "source": [
        "# Treinando o modelo\n",
        "\n",
        "history = model.fit(training_set,validation_data=validation_set, epochs=600,callbacks=callbacks)"
      ],
      "id": "ESnF6LaQ-X_P",
      "execution_count": 36,
      "outputs": [
        {
          "output_type": "stream",
          "text": [
            "Epoch 1/600\n",
            "15/15 [==============================] - 97s 6s/step - loss: 0.6212 - binary_accuracy: 0.6711 - val_loss: 0.6617 - val_binary_accuracy: 0.6647\n",
            "Epoch 2/600\n",
            "15/15 [==============================] - 96s 6s/step - loss: 0.5923 - binary_accuracy: 0.6600 - val_loss: 0.6178 - val_binary_accuracy: 0.6765\n",
            "Epoch 3/600\n",
            "15/15 [==============================] - 97s 6s/step - loss: 0.5545 - binary_accuracy: 0.7133 - val_loss: 0.5941 - val_binary_accuracy: 0.6941\n",
            "Epoch 4/600\n",
            "15/15 [==============================] - 97s 6s/step - loss: 0.5627 - binary_accuracy: 0.7111 - val_loss: 0.7123 - val_binary_accuracy: 0.5000\n",
            "Epoch 5/600\n",
            "15/15 [==============================] - 97s 6s/step - loss: 0.5490 - binary_accuracy: 0.6956 - val_loss: 0.8683 - val_binary_accuracy: 0.3824\n",
            "INFO:tensorflow:Assets written to: /tmp/checkpoint/assets\n"
          ],
          "name": "stdout"
        }
      ]
    },
    {
      "cell_type": "code",
      "metadata": {
        "id": "O0rw1wlJ-ju-"
      },
      "source": [
        "# Plotando metricas\n",
        "metrics_df = pd.DataFrame(history.history)"
      ],
      "id": "O0rw1wlJ-ju-",
      "execution_count": 13,
      "outputs": []
    },
    {
      "cell_type": "code",
      "metadata": {
        "id": "3vgv10Uj-xwb",
        "colab": {
          "base_uri": "https://localhost:8080/",
          "height": 265
        },
        "outputId": "47e73068-11de-4374-f56d-5bbd5d3e229d"
      },
      "source": [
        "metrics_df[[\"loss\",\"val_loss\"]].plot();"
      ],
      "id": "3vgv10Uj-xwb",
      "execution_count": 14,
      "outputs": [
        {
          "output_type": "display_data",
          "data": {
            "image/png": "[encoded data removed]",
            "text/plain": [
              "<Figure size 432x288 with 1 Axes>"
            ]
          },
          "metadata": {
            "tags": [],
            "needs_background": "light"
          }
        }
      ]
    },
    {
      "cell_type": "code",
      "metadata": {
        "id": "N5SKo0ox-y-o",
        "colab": {
          "base_uri": "https://localhost:8080/",
          "height": 265
        },
        "outputId": "d6d83dc5-d62d-4bca-b7d4-fa73d4af6e09"
      },
      "source": [
        "metrics_df[[\"binary_accuracy\",\"val_binary_accuracy\"]].plot();"
      ],
      "id": "N5SKo0ox-y-o",
      "execution_count": 15,
      "outputs": [
        {
          "output_type": "display_data",
          "data": {
            "image/png": "[encoded data removed]",
            "text/plain": [
              "<Figure size 432x288 with 1 Axes>"
            ]
          },
          "metadata": {
            "tags": [],
            "needs_background": "light"
          }
        }
      ]
    },
    {
      "cell_type": "code",
      "metadata": {
        "id": "4jEJQVk5DvbY",
        "colab": {
          "base_uri": "https://localhost:8080/"
        },
        "outputId": "7a58be97-0e2a-4b70-affb-c4aafad66f28"
      },
      "source": [
        "# Avaliação do modelo\n",
        "loss, accuracy = model.evaluate(validation_set)\n",
        "print('Accuracy on test dataset:', accuracy) "
      ],
      "id": "4jEJQVk5DvbY",
      "execution_count": 16,
      "outputs": [
        {
          "output_type": "stream",
          "text": [
            "6/6 [==============================] - 8s 1s/step - loss: 0.9988 - binary_accuracy: 0.6647\n",
            "Accuracy on test dataset: 0.6647058725357056\n"
          ],
          "name": "stdout"
        }
      ]
    },
    {
      "cell_type": "code",
      "metadata": {
        "id": "vRmTz1vghi-c",
        "outputId": "d64a2520-b7e3-4b87-89e3-97b598be800b",
        "colab": {
          "base_uri": "https://localhost:8080/"
        }
      },
      "source": [
        "import numpy as np\n",
        "# pra pegar X_test  e y_test daqui\n",
        "print(validation_set)\n",
        "y_test = np.concatenate([y for x, y in validation_set], axis=0)\n",
        "X_test = np.concatenate([x for x, y in validation_set], axis=0)\n",
        "y_test"
      ],
      "id": "vRmTz1vghi-c",
      "execution_count": 24,
      "outputs": [
        {
          "output_type": "stream",
          "text": [
            "<BatchDataset shapes: ((None, 400, 400, 3), (None,)), types: (tf.float32, tf.int32)>\n"
          ],
          "name": "stdout"
        },
        {
          "output_type": "execute_result",
          "data": {
            "text/plain": [
              "array([0, 1, 0, 0, 1, 1, 1, 0, 0, 0, 0, 0, 0, 0, 0, 1, 1, 0, 0, 1, 0, 1,\n",
              "       1, 0, 0, 1, 1, 0, 0, 0, 0, 0, 0, 0, 0, 1, 0, 0, 0, 1, 0, 0, 0, 0,\n",
              "       0, 1, 1, 0, 1, 0, 1, 0, 0, 0, 0, 1, 0, 0, 0, 0, 1, 0, 0, 0, 1, 0,\n",
              "       1, 0, 1, 0, 0, 1, 0, 1, 0, 1, 0, 1, 0, 1, 0, 0, 1, 0, 1, 1, 0, 1,\n",
              "       0, 1, 0, 0, 0, 0, 0, 0, 0, 0, 0, 0, 0, 1, 0, 0, 1, 1, 1, 0, 0, 1,\n",
              "       1, 0, 0, 0, 0, 0, 1, 1, 1, 0, 0, 0, 1, 0, 0, 0, 0, 1, 0, 1, 1, 0,\n",
              "       0, 0, 0, 0, 0, 1, 0, 1, 0, 1, 1, 1, 1, 1, 0, 0, 0, 1, 1, 0, 0, 0,\n",
              "       0, 1, 0, 1, 0, 0, 0, 1, 1, 0, 1, 1, 0, 0, 0, 0], dtype=int32)"
            ]
          },
          "metadata": {
            "tags": []
          },
          "execution_count": 24
        }
      ]
    },
    {
      "cell_type": "code",
      "metadata": {
        "id": "W7clkES4jl5K",
        "outputId": "bb9d0f9e-e0dc-4e20-a5df-4aa567628e2c",
        "colab": {
          "base_uri": "https://localhost:8080/"
        }
      },
      "source": [
        "X_test"
      ],
      "id": "W7clkES4jl5K",
      "execution_count": 25,
      "outputs": [
        {
          "output_type": "execute_result",
          "data": {
            "text/plain": [
              "array([[[[8.41250000e+01, 8.41250000e+01, 8.21250000e+01],\n",
              "         [8.57500000e+01, 8.61250000e+01, 8.30000000e+01],\n",
              "         [8.70000000e+01, 8.80000000e+01, 8.30000000e+01],\n",
              "         ...,\n",
              "         [3.37500000e+00, 5.37500000e+00, 3.75000000e-01],\n",
              "         [4.00000000e+00, 6.00000000e+00, 1.00000000e+00],\n",
              "         [3.12500000e+00, 5.12500000e+00, 1.25000000e-01]],\n",
              "\n",
              "        [[8.58242188e+01, 8.58242188e+01, 8.54101562e+01],\n",
              "         [8.59765625e+01, 8.60117188e+01, 8.39062500e+01],\n",
              "         [8.66601562e+01, 8.73203125e+01, 8.33398438e+01],\n",
              "         ...,\n",
              "         [2.12890625e+00, 5.03515625e+00, 3.51562500e-02],\n",
              "         [2.75390625e+00, 5.66015625e+00, 9.37500000e-02],\n",
              "         [3.01171875e+00, 5.91796875e+00, 1.17187500e-02]],\n",
              "\n",
              "        [[8.67382812e+01, 8.82148438e+01, 8.74375000e+01],\n",
              "         [8.60000000e+01, 8.60000000e+01, 8.50546875e+01],\n",
              "         [8.60976562e+01, 8.67226562e+01, 8.28476562e+01],\n",
              "         ...,\n",
              "         [3.68750000e+00, 6.68750000e+00, 0.00000000e+00],\n",
              "         [3.78515625e+00, 6.78515625e+00, 0.00000000e+00],\n",
              "         [3.84375000e+00, 6.84375000e+00, 0.00000000e+00]],\n",
              "\n",
              "        ...,\n",
              "\n",
              "        [[3.59140625e+01, 4.17890625e+01, 3.95390625e+01],\n",
              "         [3.71875000e+01, 4.21875000e+01, 3.81875000e+01],\n",
              "         [3.66601562e+01, 4.29101562e+01, 3.70351562e+01],\n",
              "         ...,\n",
              "         [6.89023438e+01, 3.72773438e+01, 1.74335938e+01],\n",
              "         [6.90976562e+01, 3.74726562e+01, 1.76289062e+01],\n",
              "         [7.01679688e+01, 3.85429688e+01, 1.86992188e+01]],\n",
              "\n",
              "        [[3.60312500e+01, 4.19062500e+01, 3.96562500e+01],\n",
              "         [3.87460938e+01, 4.37460938e+01, 3.97460938e+01],\n",
              "         [3.88046875e+01, 4.50546875e+01, 3.91796875e+01],\n",
              "         ...,\n",
              "         [6.83398438e+01, 3.33398438e+01, 1.43398438e+01],\n",
              "         [6.95312500e+01, 3.45312500e+01, 1.55312500e+01],\n",
              "         [7.16562500e+01, 3.66562500e+01, 1.76562500e+01]],\n",
              "\n",
              "        [[3.51250000e+01, 4.10000000e+01, 3.87500000e+01],\n",
              "         [3.75000000e+01, 4.25000000e+01, 3.85000000e+01],\n",
              "         [3.81250000e+01, 4.43750000e+01, 3.85000000e+01],\n",
              "         ...,\n",
              "         [6.80000000e+01, 3.30000000e+01, 1.40000000e+01],\n",
              "         [6.86250000e+01, 3.36250000e+01, 1.46250000e+01],\n",
              "         [7.07500000e+01, 3.57500000e+01, 1.67500000e+01]]],\n",
              "\n",
              "\n",
              "       [[[2.38295074e+02, 2.40295074e+02, 2.48812500e+02],\n",
              "         [1.96187500e+02, 1.99312500e+02, 2.11151489e+02],\n",
              "         [1.88338287e+02, 1.94213287e+02, 2.06195389e+02],\n",
              "         ...,\n",
              "         [1.59500000e+02, 1.73500000e+02, 1.74437500e+02],\n",
              "         [1.69500000e+02, 1.81750000e+02, 1.82187500e+02],\n",
              "         [2.31000000e+02, 2.41000000e+02, 2.40375000e+02]],\n",
              "\n",
              "        [[2.39733749e+02, 2.42592499e+02, 2.48651489e+02],\n",
              "         [1.96080154e+02, 1.99580856e+02, 2.08925156e+02],\n",
              "         [1.86946335e+02, 1.93626404e+02, 2.03846405e+02],\n",
              "         ...,\n",
              "         [1.59500000e+02, 1.73500000e+02, 1.74437500e+02],\n",
              "         [1.69500000e+02, 1.81750000e+02, 1.82187500e+02],\n",
              "         [2.31000000e+02, 2.41000000e+02, 2.40375000e+02]],\n",
              "\n",
              "        [[2.40687500e+02, 2.43687500e+02, 2.48088287e+02],\n",
              "         [1.96062500e+02, 2.00187500e+02, 2.05762497e+02],\n",
              "         [1.86937500e+02, 1.93812500e+02, 2.00824997e+02],\n",
              "         ...,\n",
              "         [1.59500000e+02, 1.73500000e+02, 1.74437500e+02],\n",
              "         [1.69500000e+02, 1.81750000e+02, 1.82187500e+02],\n",
              "         [2.31000000e+02, 2.41000000e+02, 2.40375000e+02]],\n",
              "\n",
              "        ...,\n",
              "\n",
              "        [[2.48625000e+02, 2.45437500e+02, 2.43300049e+02],\n",
              "         [2.10875000e+02, 2.06875000e+02, 2.04737549e+02],\n",
              "         [2.05812500e+02, 2.01812500e+02, 1.98866409e+02],\n",
              "         ...,\n",
              "         [1.32125000e+02, 1.41125000e+02, 1.40125000e+02],\n",
              "         [1.42625000e+02, 1.49437500e+02, 1.49312500e+02],\n",
              "         [2.31500000e+02, 2.35500000e+02, 2.36500000e+02]],\n",
              "\n",
              "        [[2.48598511e+02, 2.45296265e+02, 2.42296265e+02],\n",
              "         [2.10250702e+02, 2.06250702e+02, 2.03250702e+02],\n",
              "         [2.05750000e+02, 2.01750000e+02, 1.98750000e+02],\n",
              "         ...,\n",
              "         [1.32125000e+02, 1.41125000e+02, 1.40125000e+02],\n",
              "         [1.42625000e+02, 1.49437500e+02, 1.49312500e+02],\n",
              "         [2.31500000e+02, 2.35500000e+02, 2.36500000e+02]],\n",
              "\n",
              "        [[2.48437500e+02, 2.44437500e+02, 2.41437500e+02],\n",
              "         [2.09875000e+02, 2.05875000e+02, 2.02875000e+02],\n",
              "         [2.05080872e+02, 2.01080872e+02, 1.98080872e+02],\n",
              "         ...,\n",
              "         [1.32125000e+02, 1.41125000e+02, 1.40125000e+02],\n",
              "         [1.42625000e+02, 1.49437500e+02, 1.49312500e+02],\n",
              "         [2.31500000e+02, 2.35500000e+02, 2.36500000e+02]]],\n",
              "\n",
              "\n",
              "       [[[2.48169617e+02, 2.45530380e+02, 2.36962875e+02],\n",
              "         [2.41283127e+02, 2.38379745e+02, 2.29218124e+02],\n",
              "         [2.38966248e+02, 2.39483124e+02, 2.30533752e+02],\n",
              "         ...,\n",
              "         [2.41713120e+02, 2.43983124e+02, 2.33067505e+02],\n",
              "         [2.41671677e+02, 2.42160782e+02, 2.41073883e+02],\n",
              "         [2.38626984e+02, 2.42299988e+02, 2.38340607e+02]],\n",
              "\n",
              "        [[2.47401260e+02, 2.46501251e+02, 2.36142990e+02],\n",
              "         [2.40739258e+02, 2.37921509e+02, 2.32721512e+02],\n",
              "         [2.37696243e+02, 2.38848129e+02, 2.31095001e+02],\n",
              "         ...,\n",
              "         [2.34208755e+02, 2.43348129e+02, 2.35151871e+02],\n",
              "         [2.37989868e+02, 2.43110214e+02, 2.43462936e+02],\n",
              "         [2.39086151e+02, 2.41834244e+02, 2.38477417e+02]],\n",
              "\n",
              "        [[2.48097504e+02, 2.47129990e+02, 2.38485626e+02],\n",
              "         [2.40858124e+02, 2.39523132e+02, 2.33175629e+02],\n",
              "         [2.35759369e+02, 2.38343750e+02, 2.27837494e+02],\n",
              "         ...,\n",
              "         [2.40331253e+02, 2.41409378e+02, 2.36078125e+02],\n",
              "         [2.37748093e+02, 2.36268784e+02, 2.44196472e+02],\n",
              "         [2.35945602e+02, 2.37632507e+02, 2.28556152e+02]],\n",
              "\n",
              "        ...,\n",
              "\n",
              "        [[5.67743225e+01, 4.67874260e+01, 3.40393143e+01],\n",
              "         [6.33005295e+01, 5.18874283e+01, 3.81418266e+01],\n",
              "         [6.34874268e+01, 5.07468567e+01, 3.61624756e+01],\n",
              "         ...,\n",
              "         [2.76939087e+01, 2.68626709e+01, 3.13563843e+01],\n",
              "         [4.16516953e+01, 4.24491692e+01, 4.59959831e+01],\n",
              "         [3.97912483e+01, 4.02849617e+01, 4.27912483e+01]],\n",
              "\n",
              "        [[5.86683655e+01, 4.89683647e+01, 3.60683670e+01],\n",
              "         [6.72063522e+01, 5.55063515e+01, 4.14063530e+01],\n",
              "         [6.62974854e+01, 5.36962280e+01, 3.87468567e+01],\n",
              "         ...,\n",
              "         [3.44874268e+01, 3.34874268e+01, 3.84874268e+01],\n",
              "         [3.35010414e+01, 3.28833694e+01, 3.74921303e+01],\n",
              "         [3.07935963e+01, 3.17935963e+01, 3.37935944e+01]],\n",
              "\n",
              "        [[6.03459969e+01, 4.97763710e+01, 3.71662483e+01],\n",
              "         [6.86594925e+01, 5.66696243e+01, 4.26662483e+01],\n",
              "         [6.69831238e+01, 5.49662476e+01, 4.09324951e+01],\n",
              "         ...,\n",
              "         [3.93649902e+01, 3.83649902e+01, 4.33649902e+01],\n",
              "         [3.98468857e+01, 3.89503021e+01, 4.36501923e+01],\n",
              "         [3.31783600e+01, 3.32121124e+01, 3.52121124e+01]]],\n",
              "\n",
              "\n",
              "       ...,\n",
              "\n",
              "\n",
              "       [[[2.10000000e+02, 2.21000000e+02, 2.17000000e+02],\n",
              "         [2.10375000e+02, 2.21375000e+02, 2.17375000e+02],\n",
              "         [2.12250000e+02, 2.23250000e+02, 2.19250000e+02],\n",
              "         ...,\n",
              "         [2.11351562e+02, 2.18351562e+02, 2.10351562e+02],\n",
              "         [2.12250000e+02, 2.19250000e+02, 2.11250000e+02],\n",
              "         [2.13500000e+02, 2.20500000e+02, 2.12500000e+02]],\n",
              "\n",
              "        [[2.10000000e+02, 2.21000000e+02, 2.17000000e+02],\n",
              "         [2.10375000e+02, 2.21375000e+02, 2.17375000e+02],\n",
              "         [2.12250000e+02, 2.23250000e+02, 2.19250000e+02],\n",
              "         ...,\n",
              "         [2.17750000e+02, 2.24750000e+02, 2.16750000e+02],\n",
              "         [2.19195312e+02, 2.26195312e+02, 2.18195312e+02],\n",
              "         [2.21437500e+02, 2.28437500e+02, 2.20437500e+02]],\n",
              "\n",
              "        [[2.10000000e+02, 2.21000000e+02, 2.17000000e+02],\n",
              "         [2.10375000e+02, 2.21375000e+02, 2.17375000e+02],\n",
              "         [2.12250000e+02, 2.23250000e+02, 2.19250000e+02],\n",
              "         ...,\n",
              "         [2.14750000e+02, 2.21750000e+02, 2.13750000e+02],\n",
              "         [2.16625000e+02, 2.23625000e+02, 2.15625000e+02],\n",
              "         [2.18960938e+02, 2.25960938e+02, 2.17960938e+02]],\n",
              "\n",
              "        ...,\n",
              "\n",
              "        [[1.47726562e+02, 1.18726562e+02, 8.67265625e+01],\n",
              "         [1.39367188e+02, 1.10367188e+02, 7.83671875e+01],\n",
              "         [1.37257812e+02, 1.08257812e+02, 7.62578125e+01],\n",
              "         ...,\n",
              "         [1.66000000e+02, 1.43000000e+02, 1.27000000e+02],\n",
              "         [1.69007812e+02, 1.46007812e+02, 1.30007812e+02],\n",
              "         [1.62320312e+02, 1.39320312e+02, 1.23320312e+02]],\n",
              "\n",
              "        [[1.41921875e+02, 1.12921875e+02, 8.09218750e+01],\n",
              "         [1.35875000e+02, 1.06875000e+02, 7.48750000e+01],\n",
              "         [1.34625000e+02, 1.05625000e+02, 7.36250000e+01],\n",
              "         ...,\n",
              "         [1.59671875e+02, 1.36929688e+02, 1.18156250e+02],\n",
              "         [1.62992188e+02, 1.40250000e+02, 1.21476562e+02],\n",
              "         [1.63179688e+02, 1.40781250e+02, 1.20976562e+02]],\n",
              "\n",
              "        [[1.45554688e+02, 1.16554688e+02, 8.45546875e+01],\n",
              "         [1.38765625e+02, 1.09765625e+02, 7.77656250e+01],\n",
              "         [1.35484375e+02, 1.06484375e+02, 7.44843750e+01],\n",
              "         ...,\n",
              "         [1.60929688e+02, 1.38929688e+02, 1.17179688e+02],\n",
              "         [1.60421875e+02, 1.38421875e+02, 1.15968750e+02],\n",
              "         [1.63867188e+02, 1.41867188e+02, 1.18976562e+02]]],\n",
              "\n",
              "\n",
              "       [[[2.26119629e+02, 2.06119629e+02, 2.33119629e+02],\n",
              "         [2.25116257e+02, 2.05796249e+02, 2.32456253e+02],\n",
              "         [2.26845627e+02, 2.08845627e+02, 2.34845627e+02],\n",
              "         ...,\n",
              "         [2.42556229e+02, 2.31556229e+02, 2.45556229e+02],\n",
              "         [2.44659973e+02, 2.33659973e+02, 2.47659973e+02],\n",
              "         [2.44424133e+02, 2.33424133e+02, 2.47424133e+02]],\n",
              "\n",
              "        [[2.25779999e+02, 2.05779999e+02, 2.32779999e+02],\n",
              "         [2.27612122e+02, 2.08292114e+02, 2.34952118e+02],\n",
              "         [2.26136871e+02, 2.08136871e+02, 2.34136871e+02],\n",
              "         ...,\n",
              "         [2.44468719e+02, 2.33468719e+02, 2.47468719e+02],\n",
              "         [2.45000000e+02, 2.34000000e+02, 2.48000000e+02],\n",
              "         [2.42780029e+02, 2.31780029e+02, 2.45780029e+02]],\n",
              "\n",
              "        [[2.26061249e+02, 2.06061249e+02, 2.33061249e+02],\n",
              "         [2.28904373e+02, 2.09584366e+02, 2.36244370e+02],\n",
              "         [2.27353134e+02, 2.09353134e+02, 2.35353134e+02],\n",
              "         ...,\n",
              "         [2.45746872e+02, 2.34746872e+02, 2.48746872e+02],\n",
              "         [2.45525650e+02, 2.34525650e+02, 2.48525650e+02],\n",
              "         [2.43123138e+02, 2.32123138e+02, 2.46123138e+02]],\n",
              "\n",
              "        ...,\n",
              "\n",
              "        [[1.33692505e+02, 7.86925049e+01, 4.86925011e+01],\n",
              "         [1.30814377e+02, 7.58143768e+01, 4.58143768e+01],\n",
              "         [1.30774994e+02, 7.75749969e+01, 4.66749992e+01],\n",
              "         ...,\n",
              "         [6.65906219e+01, 2.09562607e+01, 2.50931931e+00],\n",
              "         [6.58437500e+01, 2.20000000e+01, 5.75560570e+00],\n",
              "         [6.24387665e+01, 2.24375000e+01, 6.71630859e+00]],\n",
              "\n",
              "        [[1.32177429e+02, 7.65461426e+01, 4.84399986e+01],\n",
              "         [1.30554626e+02, 7.49233475e+01, 4.68172112e+01],\n",
              "         [1.29831284e+02, 7.60000000e+01, 4.69938583e+01],\n",
              "         ...,\n",
              "         [6.68000488e+01, 2.20000000e+01, 1.93737793e+00],\n",
              "         [6.29233932e+01, 2.05833683e+01, 4.24334097e+00],\n",
              "         [5.85985603e+01, 2.17374268e+01, 5.73742676e+00]],\n",
              "\n",
              "        [[1.28676239e+02, 7.26762390e+01, 4.56762390e+01],\n",
              "         [1.30864883e+02, 7.48648758e+01, 4.78648796e+01],\n",
              "         [1.31199997e+02, 7.70000000e+01, 4.90999985e+01],\n",
              "         ...,\n",
              "         [6.63562622e+01, 2.00456123e+01, 0.00000000e+00],\n",
              "         [6.14951591e+01, 2.00000000e+01, 7.57342458e-01],\n",
              "         [5.57607765e+01, 2.11196117e+01, 1.45623779e+00]]],\n",
              "\n",
              "\n",
              "       [[[9.61562500e+01, 8.92147522e+01, 7.25855026e+01],\n",
              "         [9.34954987e+01, 8.83150024e+01, 6.94052505e+01],\n",
              "         [9.28412476e+01, 8.68412476e+01, 6.73899994e+01],\n",
              "         ...,\n",
              "         [2.02743744e+02, 1.97743744e+02, 1.93743744e+02],\n",
              "         [2.01292496e+02, 1.96292496e+02, 1.92292496e+02],\n",
              "         [2.00660736e+02, 1.95660736e+02, 1.91660736e+02]],\n",
              "\n",
              "        [[9.41340027e+01, 8.76462479e+01, 7.10094986e+01],\n",
              "         [8.98889999e+01, 8.48597488e+01, 6.59475021e+01],\n",
              "         [9.45374985e+01, 8.85374985e+01, 6.95374985e+01],\n",
              "         ...,\n",
              "         [2.05292496e+02, 1.99414993e+02, 1.96000000e+02],\n",
              "         [2.04555740e+02, 1.98678238e+02, 1.95263245e+02],\n",
              "         [2.04292496e+02, 1.98414993e+02, 1.95000000e+02]],\n",
              "\n",
              "        [[9.58212509e+01, 8.91212540e+01, 7.31212540e+01],\n",
              "         [9.59187469e+01, 9.08187485e+01, 7.21187515e+01],\n",
              "         [9.53875046e+01, 8.93875046e+01, 7.06312485e+01],\n",
              "         ...,\n",
              "         [2.06000000e+02, 1.98000000e+02, 1.96000000e+02],\n",
              "         [2.05851196e+02, 1.97851196e+02, 1.95851196e+02],\n",
              "         [2.05195007e+02, 1.97195007e+02, 1.95195007e+02]],\n",
              "\n",
              "        ...,\n",
              "\n",
              "        [[1.17094894e+02, 7.20948944e+01, 3.10948982e+01],\n",
              "         [1.14151154e+02, 6.78349380e+01, 2.72736740e+01],\n",
              "         [1.17256256e+02, 6.92562561e+01, 2.92562561e+01],\n",
              "         ...,\n",
              "         [1.83474976e+02, 1.24987488e+02, 8.27312317e+01],\n",
              "         [1.84419983e+02, 1.26342468e+02, 8.27586670e+01],\n",
              "         [1.85311340e+02, 1.25987610e+02, 8.12700806e+01]],\n",
              "\n",
              "        [[1.15476318e+02, 7.14668503e+01, 2.99715824e+01],\n",
              "         [1.17162941e+02, 7.21629410e+01, 3.11629391e+01],\n",
              "         [1.12901123e+02, 6.49011230e+01, 2.49011230e+01],\n",
              "         ...,\n",
              "         [1.87452637e+02, 1.30160156e+02, 8.65988770e+01],\n",
              "         [1.85058777e+02, 1.28071030e+02, 8.29587402e+01],\n",
              "         [1.88195206e+02, 1.31522491e+02, 8.49904556e+01]],\n",
              "\n",
              "        [[1.13882668e+02, 7.08241882e+01, 2.88534298e+01],\n",
              "         [1.14043327e+02, 6.92238235e+01, 2.81335754e+01],\n",
              "         [1.19122742e+02, 7.15740051e+01, 3.06714783e+01],\n",
              "         ...,\n",
              "         [1.79120941e+02, 1.22120941e+02, 7.72184143e+01],\n",
              "         [1.85811951e+02, 1.28911987e+02, 8.37119064e+01],\n",
              "         [1.80367554e+02, 1.24367554e+02, 7.73675537e+01]]]],\n",
              "      dtype=float32)"
            ]
          },
          "metadata": {
            "tags": []
          },
          "execution_count": 25
        }
      ]
    },
    {
      "cell_type": "code",
      "metadata": {
        "id": "eDud2yZchEIS"
      },
      "source": [
        "from sklearn.metrics import roc_curve\n",
        "y_pred_keras = model.predict(X_test).ravel()\n",
        "fpr_keras, tpr_keras, thresholds_keras = roc_curve(y_test, y_pred_keras)"
      ],
      "id": "eDud2yZchEIS",
      "execution_count": 26,
      "outputs": []
    },
    {
      "cell_type": "code",
      "metadata": {
        "id": "kwzkjX76k6Li"
      },
      "source": [
        "from sklearn.metrics import auc\n",
        "auc_keras = auc(fpr_keras, tpr_keras)"
      ],
      "id": "kwzkjX76k6Li",
      "execution_count": 33,
      "outputs": []
    },
    {
      "cell_type": "code",
      "metadata": {
        "id": "gvM2KDaBlFBQ",
        "outputId": "140c4d89-a9f4-4b01-d317-0046d8d1d017",
        "colab": {
          "base_uri": "https://localhost:8080/",
          "height": 295
        }
      },
      "source": [
        "import matplotlib.pyplot as plt\n",
        "\n",
        "plt.figure(1)\n",
        "plt.plot([0, 1], [0, 1], 'k--')\n",
        "plt.plot(fpr_keras, tpr_keras, label='Keras (area = {:.3f})'.format(auc_keras))\n",
        "# plt.plot(fpr_rf, tpr_rf, label='RF (area = {:.3f})'.format(auc_rf))\n",
        "plt.xlabel('False positive rate')\n",
        "plt.ylabel('True positive rate')\n",
        "plt.title('ROC curve')\n",
        "plt.legend(loc='best')\n",
        "plt.show()"
      ],
      "id": "gvM2KDaBlFBQ",
      "execution_count": 34,
      "outputs": [
        {
          "output_type": "display_data",
          "data": {
            "image/png": "[encoded data removed]",
            "text/plain": [
              "<Figure size 432x288 with 1 Axes>"
            ]
          },
          "metadata": {
            "tags": [],
            "needs_background": "light"
          }
        }
      ]
    }
  ]
}