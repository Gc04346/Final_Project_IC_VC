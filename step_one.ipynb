{
  "nbformat": 4,
  "nbformat_minor": 5,
  "metadata": {
    "kernelspec": {
      "display_name": "Python 3",
      "language": "python",
      "name": "python3"
    },
    "language_info": {
      "codemirror_mode": {
        "name": "ipython",
        "version": 3
      },
      "file_extension": ".py",
      "mimetype": "text/x-python",
      "name": "python",
      "nbconvert_exporter": "python",
      "pygments_lexer": "ipython3",
      "version": "3.6.9"
    },
    "colab": {
      "name": "step_one.ipynb",
      "provenance": []
    }
  },
  "cells": [
    {
      "cell_type": "code",
      "metadata": {
        "id": "bb494821"
      },
      "source": [
        "import tensorflow as tf\n",
        "from tensorflow import keras\n",
        "from tensorflow.keras import Sequential\n",
        "from tensorflow.keras.layers import Dense,Conv2D,MaxPooling2D,Flatten,Dropout\n",
        "from tensorflow.keras.preprocessing.image import ImageDataGenerator\n",
        "\n",
        "from tensorflow.keras.callbacks import EarlyStopping\n",
        "import pandas as pd"
      ],
      "id": "bb494821",
      "execution_count": 1,
      "outputs": []
    },
    {
      "cell_type": "code",
      "metadata": {
        "id": "GdnFJ5GKAzmW",
        "colab": {
          "base_uri": "https://localhost:8080/"
        },
        "outputId": "e246b267-8c78-4bcb-9d73-1e3b4b87978a"
      },
      "source": [
        "from google.colab import drive\n",
        "drive.mount('/content/drive')"
      ],
      "id": "GdnFJ5GKAzmW",
      "execution_count": 2,
      "outputs": [
        {
          "output_type": "stream",
          "text": [
            "Mounted at /content/drive\n"
          ],
          "name": "stdout"
        }
      ]
    },
    {
      "cell_type": "code",
      "metadata": {
        "id": "5FS7dZA6CFII"
      },
      "source": [
        "# extraindo o zip\n",
        "import os\n",
        "import zipfile\n",
        "with zipfile.ZipFile('/content/drive/MyDrive/Datasets/dataset_vc/dataset.zip', 'r') as zip_ref:\n",
        "    zip_ref.extractall('/tmp/office_not_office')"
      ],
      "id": "5FS7dZA6CFII",
      "execution_count": 3,
      "outputs": []
    },
    {
      "cell_type": "code",
      "metadata": {
        "id": "kjudHZwTCI6F"
      },
      "source": [
        "# definindo os paths no /tmp da virtual machine do Colab\n",
        "base_dir = '/tmp/office_not_office/dataset'\n",
        "train_dir = os.path.join(base_dir, 'training_set')\n",
        "test_dir = os.path.join(base_dir, 'test_set')"
      ],
      "id": "kjudHZwTCI6F",
      "execution_count": 6,
      "outputs": []
    },
    {
      "cell_type": "code",
      "metadata": {
        "id": "hzvSbk30CNK6",
        "colab": {
          "base_uri": "https://localhost:8080/"
        },
        "outputId": "11d585a7-79c1-4cd9-a210-bae7c4ce43f5"
      },
      "source": [
        "# definindo set de treino\n",
        "training_set = tf.keras.preprocessing.image_dataset_from_directory(\n",
        "train_dir,\n",
        "seed=101,\n",
        "image_size=(400, 400),\n",
        "batch_size=32)"
      ],
      "id": "hzvSbk30CNK6",
      "execution_count": 7,
      "outputs": [
        {
          "output_type": "stream",
          "text": [
            "Found 450 files belonging to 2 classes.\n"
          ],
          "name": "stdout"
        }
      ]
    },
    {
      "cell_type": "code",
      "metadata": {
        "id": "3NsNsW-7CluS",
        "colab": {
          "base_uri": "https://localhost:8080/"
        },
        "outputId": "940ed4b1-d26d-4c80-b1c1-f5b93814b1b8"
      },
      "source": [
        "# definindo set de teste\n",
        "validation_set = tf.keras.preprocessing.image_dataset_from_directory(\n",
        "test_dir,\n",
        "seed=101,\n",
        "image_size=(400, 400),\n",
        "batch_size=32)"
      ],
      "id": "3NsNsW-7CluS",
      "execution_count": 8,
      "outputs": [
        {
          "output_type": "stream",
          "text": [
            "Found 170 files belonging to 2 classes.\n"
          ],
          "name": "stdout"
        }
      ]
    },
    {
      "cell_type": "code",
      "metadata": {
        "id": "2IzkciTqCpqT",
        "colab": {
          "base_uri": "https://localhost:8080/"
        },
        "outputId": "af2c2c1e-24c8-4c64-e301-adaaadd27281"
      },
      "source": [
        "# testando se o set de treino veio certinho. o output correto deve ser ['office', 'not_office']\n",
        "class_names = training_set.class_names\n",
        "class_names"
      ],
      "id": "2IzkciTqCpqT",
      "execution_count": 9,
      "outputs": [
        {
          "output_type": "execute_result",
          "data": {
            "text/plain": [
              "['not_office', 'office']"
            ]
          },
          "metadata": {
            "tags": []
          },
          "execution_count": 9
        }
      ]
    },
    {
      "cell_type": "code",
      "metadata": {
        "id": "3CMo-iw6C25H"
      },
      "source": [
        "# obtendo um modelo de aleatorizacao de imagens para evitar overfit\n",
        "data_augmentation = keras.Sequential(\n",
        "  [\n",
        "    tf.keras.layers.experimental.preprocessing.RandomFlip(\"horizontal\", input_shape=(400, 400, 3)),\n",
        "    tf.keras.layers.experimental.preprocessing.RandomRotation(0.2),\n",
        "    tf.keras.layers.experimental.preprocessing.RandomZoom(0.2),\n",
        "  ]\n",
        ")"
      ],
      "id": "3CMo-iw6C25H",
      "execution_count": 10,
      "outputs": []
    },
    {
      "cell_type": "code",
      "metadata": {
        "id": "Q76937LJ_GoG"
      },
      "source": [
        "# CNN com Dropout e BatchNormalization para acelerar o treino\n",
        "\n",
        "model = Sequential([\n",
        "    data_augmentation,\n",
        "    tf.keras.layers.experimental.preprocessing.Rescaling(1./255),\n",
        "    Conv2D(filters=32,kernel_size=(3,3), activation='relu'),\n",
        "    MaxPooling2D(pool_size=(2,2)),\n",
        "\n",
        "    Conv2D(filters=32,kernel_size=(3,3), activation='relu'),\n",
        "    MaxPooling2D(pool_size=(2,2)),\n",
        "    Dropout(0.25),\n",
        "\n",
        "    Conv2D(filters=64,kernel_size=(3,3), activation='relu'),\n",
        "    MaxPooling2D(pool_size=(2,2)),\n",
        "    Dropout(0.25),\n",
        "\n",
        "    Flatten(),\n",
        "    Dense(128, activation='relu'),\n",
        "    Dropout(0.25),\n",
        "    tf.keras.layers.BatchNormalization(),  # não tenho certeza se esta linha deveria vir antes ou depois do Dropout\n",
        "    Dense(1, activation='sigmoid')\n",
        "])"
      ],
      "id": "Q76937LJ_GoG",
      "execution_count": 11,
      "outputs": []
    },
    {
      "cell_type": "code",
      "metadata": {
        "id": "IgzD-AeQ9vI2"
      },
      "source": [
        "# Compilando o modelo\n",
        "model.compile(optimizer='adam',\n",
        "              loss=keras.losses.BinaryCrossentropy(from_logits=True),\n",
        "              metrics=[keras.metrics.BinaryAccuracy()])"
      ],
      "id": "IgzD-AeQ9vI2",
      "execution_count": 12,
      "outputs": []
    },
    {
      "cell_type": "code",
      "metadata": {
        "id": "PaahLxUt-GBL"
      },
      "source": [
        "# Definindo callbacks para Early Stopping e para Checkpoints que salvam o melhor modelo\n",
        "checkpoint_filepath = '/tmp/checkpoint'\n",
        "model_checkpoint_callback = tf.keras.callbacks.ModelCheckpoint(\n",
        "    filepath=checkpoint_filepath,\n",
        "    save_weights_only=False,\n",
        "    monitor='loss',\n",
        "    mode='min',\n",
        "    save_best_only=True)\n",
        "\n",
        "callbacks = [\n",
        "             #EarlyStopping(patience=10),\n",
        "             model_checkpoint_callback,\n",
        "]"
      ],
      "id": "PaahLxUt-GBL",
      "execution_count": 24,
      "outputs": []
    },
    {
      "cell_type": "code",
      "metadata": {
        "id": "ESnF6LaQ-X_P",
        "colab": {
          "base_uri": "https://localhost:8080/"
        },
        "outputId": "1323373a-18c6-4174-9d9c-820307aed00e"
      },
      "source": [
        "# Treinando o modelo\n",
        "\n",
        "history = model.fit(training_set,validation_data=validation_set, epochs=40,callbacks=callbacks)"
      ],
      "id": "ESnF6LaQ-X_P",
      "execution_count": 29,
      "outputs": [
        {
          "output_type": "stream",
          "text": [
            "Epoch 1/40\n",
            "15/15 [==============================] - 104s 7s/step - loss: 0.5160 - binary_accuracy: 0.7267 - val_loss: 0.5736 - val_binary_accuracy: 0.7235\n",
            "Epoch 2/40\n",
            "15/15 [==============================] - 104s 7s/step - loss: 0.5266 - binary_accuracy: 0.7244 - val_loss: 0.8328 - val_binary_accuracy: 0.4647\n",
            "Epoch 3/40\n",
            "15/15 [==============================] - 104s 7s/step - loss: 0.5073 - binary_accuracy: 0.7489 - val_loss: 0.7142 - val_binary_accuracy: 0.5412\n",
            "INFO:tensorflow:Assets written to: /tmp/checkpoint/assets\n",
            "Epoch 4/40\n",
            "15/15 [==============================] - 104s 7s/step - loss: 0.4876 - binary_accuracy: 0.7578 - val_loss: 0.6450 - val_binary_accuracy: 0.6471\n",
            "INFO:tensorflow:Assets written to: /tmp/checkpoint/assets\n",
            "Epoch 5/40\n",
            "15/15 [==============================] - 104s 7s/step - loss: 0.4869 - binary_accuracy: 0.7511 - val_loss: 0.5699 - val_binary_accuracy: 0.7059\n",
            "INFO:tensorflow:Assets written to: /tmp/checkpoint/assets\n",
            "Epoch 6/40\n",
            "15/15 [==============================] - 104s 7s/step - loss: 0.5089 - binary_accuracy: 0.7289 - val_loss: 0.6404 - val_binary_accuracy: 0.6529\n",
            "Epoch 7/40\n",
            "15/15 [==============================] - 104s 7s/step - loss: 0.4791 - binary_accuracy: 0.7533 - val_loss: 0.5604 - val_binary_accuracy: 0.7000\n",
            "INFO:tensorflow:Assets written to: /tmp/checkpoint/assets\n",
            "Epoch 8/40\n",
            "15/15 [==============================] - 104s 7s/step - loss: 0.4967 - binary_accuracy: 0.7333 - val_loss: 0.6144 - val_binary_accuracy: 0.6824\n",
            "Epoch 9/40\n",
            "15/15 [==============================] - 104s 7s/step - loss: 0.4767 - binary_accuracy: 0.7733 - val_loss: 0.5742 - val_binary_accuracy: 0.7353\n",
            "INFO:tensorflow:Assets written to: /tmp/checkpoint/assets\n",
            "Epoch 10/40\n",
            "15/15 [==============================] - 104s 7s/step - loss: 0.5025 - binary_accuracy: 0.7444 - val_loss: 0.5587 - val_binary_accuracy: 0.7235\n",
            "Epoch 11/40\n",
            "15/15 [==============================] - 104s 7s/step - loss: 0.5175 - binary_accuracy: 0.7444 - val_loss: 0.5545 - val_binary_accuracy: 0.6706\n",
            "Epoch 12/40\n",
            "15/15 [==============================] - 104s 7s/step - loss: 0.4866 - binary_accuracy: 0.7511 - val_loss: 0.5408 - val_binary_accuracy: 0.7000\n",
            "Epoch 13/40\n",
            "15/15 [==============================] - 103s 7s/step - loss: 0.5115 - binary_accuracy: 0.7156 - val_loss: 0.5521 - val_binary_accuracy: 0.6824\n",
            "Epoch 14/40\n",
            "15/15 [==============================] - 104s 7s/step - loss: 0.5022 - binary_accuracy: 0.7644 - val_loss: 0.5623 - val_binary_accuracy: 0.7000\n",
            "Epoch 15/40\n",
            "15/15 [==============================] - 104s 7s/step - loss: 0.5014 - binary_accuracy: 0.7422 - val_loss: 0.6480 - val_binary_accuracy: 0.6647\n",
            "Epoch 16/40\n",
            "15/15 [==============================] - 104s 7s/step - loss: 0.5020 - binary_accuracy: 0.7356 - val_loss: 0.6342 - val_binary_accuracy: 0.6765\n",
            "Epoch 17/40\n",
            "15/15 [==============================] - 104s 7s/step - loss: 0.4668 - binary_accuracy: 0.7756 - val_loss: 0.5543 - val_binary_accuracy: 0.6882\n",
            "INFO:tensorflow:Assets written to: /tmp/checkpoint/assets\n",
            "Epoch 18/40\n",
            "15/15 [==============================] - 104s 7s/step - loss: 0.4780 - binary_accuracy: 0.7667 - val_loss: 0.5632 - val_binary_accuracy: 0.7118\n",
            "Epoch 19/40\n",
            "15/15 [==============================] - 104s 7s/step - loss: 0.4724 - binary_accuracy: 0.7667 - val_loss: 0.5464 - val_binary_accuracy: 0.7059\n",
            "Epoch 20/40\n",
            "15/15 [==============================] - 104s 7s/step - loss: 0.4771 - binary_accuracy: 0.7511 - val_loss: 0.5740 - val_binary_accuracy: 0.7059\n",
            "Epoch 21/40\n",
            "15/15 [==============================] - 103s 7s/step - loss: 0.4703 - binary_accuracy: 0.7622 - val_loss: 0.5518 - val_binary_accuracy: 0.7000\n",
            "Epoch 22/40\n",
            "15/15 [==============================] - 103s 7s/step - loss: 0.4868 - binary_accuracy: 0.7622 - val_loss: 0.6263 - val_binary_accuracy: 0.6412\n",
            "Epoch 23/40\n",
            "15/15 [==============================] - 104s 7s/step - loss: 0.4608 - binary_accuracy: 0.7778 - val_loss: 0.5317 - val_binary_accuracy: 0.6765\n",
            "INFO:tensorflow:Assets written to: /tmp/checkpoint/assets\n",
            "Epoch 24/40\n",
            "15/15 [==============================] - 104s 7s/step - loss: 0.4781 - binary_accuracy: 0.7756 - val_loss: 0.5503 - val_binary_accuracy: 0.7294\n",
            "Epoch 25/40\n",
            "15/15 [==============================] - 104s 7s/step - loss: 0.4911 - binary_accuracy: 0.7556 - val_loss: 0.7918 - val_binary_accuracy: 0.6882\n",
            "Epoch 26/40\n",
            "15/15 [==============================] - 104s 7s/step - loss: 0.5093 - binary_accuracy: 0.7422 - val_loss: 0.5596 - val_binary_accuracy: 0.6706\n",
            "Epoch 27/40\n",
            "15/15 [==============================] - 104s 7s/step - loss: 0.4904 - binary_accuracy: 0.7756 - val_loss: 0.6300 - val_binary_accuracy: 0.6529\n",
            "Epoch 28/40\n",
            "15/15 [==============================] - 104s 7s/step - loss: 0.4820 - binary_accuracy: 0.7533 - val_loss: 0.5468 - val_binary_accuracy: 0.7059\n",
            "Epoch 29/40\n",
            "15/15 [==============================] - 104s 7s/step - loss: 0.4627 - binary_accuracy: 0.7689 - val_loss: 0.5460 - val_binary_accuracy: 0.6882\n",
            "Epoch 30/40\n",
            "15/15 [==============================] - 103s 7s/step - loss: 0.4471 - binary_accuracy: 0.7867 - val_loss: 0.5663 - val_binary_accuracy: 0.7000\n",
            "INFO:tensorflow:Assets written to: /tmp/checkpoint/assets\n",
            "Epoch 31/40\n",
            "15/15 [==============================] - 104s 7s/step - loss: 0.4725 - binary_accuracy: 0.7778 - val_loss: 0.5987 - val_binary_accuracy: 0.6882\n",
            "Epoch 32/40\n",
            "15/15 [==============================] - 103s 7s/step - loss: 0.5226 - binary_accuracy: 0.7333 - val_loss: 0.5959 - val_binary_accuracy: 0.6941\n",
            "Epoch 33/40\n",
            "15/15 [==============================] - 103s 7s/step - loss: 0.5583 - binary_accuracy: 0.7133 - val_loss: 0.7615 - val_binary_accuracy: 0.6941\n",
            "Epoch 34/40\n",
            "15/15 [==============================] - 103s 7s/step - loss: 0.5444 - binary_accuracy: 0.7267 - val_loss: 0.5711 - val_binary_accuracy: 0.7235\n",
            "Epoch 35/40\n",
            "15/15 [==============================] - 103s 7s/step - loss: 0.5427 - binary_accuracy: 0.7222 - val_loss: 0.6758 - val_binary_accuracy: 0.6059\n",
            "Epoch 36/40\n",
            "15/15 [==============================] - 103s 7s/step - loss: 0.5201 - binary_accuracy: 0.7378 - val_loss: 0.5638 - val_binary_accuracy: 0.7000\n",
            "Epoch 37/40\n",
            "15/15 [==============================] - 103s 7s/step - loss: 0.4861 - binary_accuracy: 0.7533 - val_loss: 0.7286 - val_binary_accuracy: 0.5294\n",
            "Epoch 38/40\n",
            "15/15 [==============================] - 103s 7s/step - loss: 0.5052 - binary_accuracy: 0.7156 - val_loss: 0.5467 - val_binary_accuracy: 0.6882\n",
            "Epoch 39/40\n",
            "15/15 [==============================] - 103s 7s/step - loss: 0.4964 - binary_accuracy: 0.7400 - val_loss: 0.5342 - val_binary_accuracy: 0.6941\n",
            "Epoch 40/40\n",
            "15/15 [==============================] - 103s 7s/step - loss: 0.4932 - binary_accuracy: 0.7378 - val_loss: 0.5359 - val_binary_accuracy: 0.6882\n"
          ],
          "name": "stdout"
        }
      ]
    },
    {
      "cell_type": "code",
      "metadata": {
        "id": "O0rw1wlJ-ju-"
      },
      "source": [
        "# Plotando metricas\n",
        "metrics_df = pd.DataFrame(history.history)"
      ],
      "id": "O0rw1wlJ-ju-",
      "execution_count": 30,
      "outputs": []
    },
    {
      "cell_type": "code",
      "metadata": {
        "id": "3vgv10Uj-xwb",
        "colab": {
          "base_uri": "https://localhost:8080/",
          "height": 268
        },
        "outputId": "da778832-bbc1-472d-c62f-a07100dea9e4"
      },
      "source": [
        "metrics_df[[\"loss\",\"val_loss\"]].plot();"
      ],
      "id": "3vgv10Uj-xwb",
      "execution_count": 31,
      "outputs": [
        {
          "output_type": "display_data",
          "data": {
            "image/png": "[encoded data removed]",
            "text/plain": [
              "<Figure size 432x288 with 1 Axes>"
            ]
          },
          "metadata": {
            "tags": [],
            "needs_background": "light"
          }
        }
      ]
    },
    {
      "cell_type": "code",
      "metadata": {
        "id": "N5SKo0ox-y-o",
        "colab": {
          "base_uri": "https://localhost:8080/",
          "height": 268
        },
        "outputId": "72d619cb-d1f9-4401-87ed-cbeb01fdd173"
      },
      "source": [
        "metrics_df[[\"binary_accuracy\",\"val_binary_accuracy\"]].plot();"
      ],
      "id": "N5SKo0ox-y-o",
      "execution_count": 32,
      "outputs": [
        {
          "output_type": "display_data",
          "data": {
            "image/png": "[encoded data removed]",
            "text/plain": [
              "<Figure size 432x288 with 1 Axes>"
            ]
          },
          "metadata": {
            "tags": [],
            "needs_background": "light"
          }
        }
      ]
    },
    {
      "cell_type": "code",
      "metadata": {
        "id": "4jEJQVk5DvbY",
        "colab": {
          "base_uri": "https://localhost:8080/"
        },
        "outputId": "ba28e376-d709-411e-91c6-11d4536c25de"
      },
      "source": [
        "# Avaliação do modelo\n",
        "loss, accuracy = model.evaluate(validation_set)\n",
        "print('Accuracy on test dataset:', accuracy) "
      ],
      "id": "4jEJQVk5DvbY",
      "execution_count": 33,
      "outputs": [
        {
          "output_type": "stream",
          "text": [
            "6/6 [==============================] - 9s 1s/step - loss: 0.5359 - binary_accuracy: 0.6882\n",
            "Accuracy on test dataset: 0.6882352828979492\n"
          ],
          "name": "stdout"
        }
      ]
    },
    {
      "cell_type": "code",
      "metadata": {
        "id": "vRmTz1vghi-c",
        "colab": {
          "base_uri": "https://localhost:8080/"
        },
        "outputId": "b3e48c22-bf79-4f6f-daf9-eab0e82482d4"
      },
      "source": [
        "import numpy as np\n",
        "# pra pegar X_test  e y_test daqui\n",
        "print(validation_set)\n",
        "y_test = np.concatenate([y for x, y in validation_set], axis=0)\n",
        "X_test = np.concatenate([x for x, y in validation_set], axis=0)\n",
        "y_test"
      ],
      "id": "vRmTz1vghi-c",
      "execution_count": 34,
      "outputs": [
        {
          "output_type": "stream",
          "text": [
            "<BatchDataset shapes: ((None, 400, 400, 3), (None,)), types: (tf.float32, tf.int32)>\n"
          ],
          "name": "stdout"
        },
        {
          "output_type": "execute_result",
          "data": {
            "text/plain": [
              "array([1, 0, 1, 1, 0, 0, 0, 1, 0, 1, 0, 0, 0, 0, 1, 1, 1, 0, 0, 1, 0, 0,\n",
              "       0, 1, 0, 0, 0, 0, 0, 1, 1, 1, 1, 0, 0, 1, 1, 0, 0, 1, 1, 1, 1, 0,\n",
              "       0, 0, 0, 1, 1, 1, 0, 0, 1, 0, 0, 0, 0, 1, 0, 1, 0, 0, 1, 0, 0, 1,\n",
              "       0, 0, 1, 0, 0, 1, 1, 1, 0, 0, 0, 0, 0, 0, 1, 0, 0, 1, 0, 0, 0, 1,\n",
              "       0, 0, 1, 1, 1, 0, 0, 0, 1, 1, 0, 0, 1, 0, 1, 1, 1, 0, 0, 0, 0, 0,\n",
              "       1, 0, 0, 0, 0, 0, 0, 1, 1, 0, 0, 0, 0, 1, 0, 1, 0, 1, 0, 0, 0, 0,\n",
              "       0, 1, 0, 0, 0, 1, 0, 0, 0, 0, 0, 0, 0, 0, 1, 0, 1, 1, 0, 0, 0, 1,\n",
              "       0, 0, 0, 0, 0, 1, 0, 0, 0, 0, 0, 1, 1, 0, 0, 1], dtype=int32)"
            ]
          },
          "metadata": {
            "tags": []
          },
          "execution_count": 34
        }
      ]
    },
    {
      "cell_type": "code",
      "metadata": {
        "id": "W7clkES4jl5K",
        "colab": {
          "base_uri": "https://localhost:8080/"
        },
        "outputId": "34297299-6690-4ea9-e794-b7184e2ad173"
      },
      "source": [
        "X_test"
      ],
      "id": "W7clkES4jl5K",
      "execution_count": 35,
      "outputs": [
        {
          "output_type": "execute_result",
          "data": {
            "text/plain": [
              "array([[[[233.25     , 215.875    , 203.375    ],\n",
              "         [234.625    , 223.5      , 206.375    ],\n",
              "         [232.75     , 225.375    , 207.       ],\n",
              "         ...,\n",
              "         [255.       , 255.       , 255.       ],\n",
              "         [255.       , 255.       , 255.       ],\n",
              "         [255.       , 255.       , 255.       ]],\n",
              "\n",
              "        [[226.90625  , 217.34766  , 200.88281  ],\n",
              "         [229.64062  , 222.2539   , 206.14844  ],\n",
              "         [233.42969  , 226.39453  , 210.17188  ],\n",
              "         ...,\n",
              "         [255.       , 255.       , 255.       ],\n",
              "         [255.       , 255.       , 255.       ],\n",
              "         [255.       , 255.       , 255.       ]],\n",
              "\n",
              "        [[224.03516  , 220.13672  , 201.67969  ],\n",
              "         [229.125    , 224.55078  , 209.28906  ],\n",
              "         [232.97266  , 225.76172  , 212.60938  ],\n",
              "         ...,\n",
              "         [255.       , 255.       , 255.       ],\n",
              "         [255.       , 255.       , 255.       ],\n",
              "         [255.       , 255.       , 255.       ]],\n",
              "\n",
              "        ...,\n",
              "\n",
              "        [[ 90.97266  ,  95.94922  ,  95.453125 ],\n",
              "         [ 90.38281  ,  95.515625 ,  97.05078  ],\n",
              "         [ 95.34375  ,  98.21094  , 102.14844  ],\n",
              "         ...,\n",
              "         [143.27344  , 145.5664   , 142.46875  ],\n",
              "         [143.9961   , 144.9414   , 142.46875  ],\n",
              "         [144.3125   , 144.35156  , 144.08203  ]],\n",
              "\n",
              "        [[ 85.89844  ,  95.62109  ,  96.484375 ],\n",
              "         [ 87.40625  ,  98.33984  ,  98.62109  ],\n",
              "         [ 94.828125 , 101.328125 , 103.484375 ],\n",
              "         ...,\n",
              "         [144.6211   , 148.60156  , 144.9414   ],\n",
              "         [145.98828  , 148.09375  , 145.0586   ],\n",
              "         [146.17578  , 146.42578  , 146.05078  ]],\n",
              "\n",
              "        [[ 97.       , 101.625    , 102.375    ],\n",
              "         [ 97.375    , 105.25     , 104.625    ],\n",
              "         [ 98.       , 100.875    , 102.125    ],\n",
              "         ...,\n",
              "         [143.375    , 148.375    , 144.375    ],\n",
              "         [145.875    , 149.       , 145.625    ],\n",
              "         [147.875    , 148.125    , 147.75     ]]],\n",
              "\n",
              "\n",
              "       [[[218.       , 222.       , 221.       ],\n",
              "         [217.       , 221.       , 220.       ],\n",
              "         [216.875    , 220.875    , 219.875    ],\n",
              "         ...,\n",
              "         [255.       , 255.       , 255.       ],\n",
              "         [255.       , 255.       , 255.       ],\n",
              "         [255.       , 255.       , 255.       ]],\n",
              "\n",
              "        [[218.       , 222.       , 221.       ],\n",
              "         [217.       , 221.       , 220.       ],\n",
              "         [216.875    , 220.875    , 219.875    ],\n",
              "         ...,\n",
              "         [255.       , 255.       , 255.       ],\n",
              "         [255.       , 255.       , 255.       ],\n",
              "         [255.       , 255.       , 255.       ]],\n",
              "\n",
              "        [[218.       , 222.       , 221.       ],\n",
              "         [217.       , 221.       , 220.       ],\n",
              "         [216.875    , 220.875    , 219.875    ],\n",
              "         ...,\n",
              "         [255.       , 255.       , 255.       ],\n",
              "         [255.       , 255.       , 255.       ],\n",
              "         [255.       , 255.       , 255.       ]],\n",
              "\n",
              "        ...,\n",
              "\n",
              "        [[ 17.394608 ,  16.394608 ,  21.394608 ],\n",
              "         [ 10.023529 ,  11.023529 ,  15.023529 ],\n",
              "         [  2.6053925,   6.6053925,   9.605392 ],\n",
              "         ...,\n",
              "         [105.363235 , 106.363235 , 124.363235 ],\n",
              "         [102.583725 , 103.583725 , 124.458725 ],\n",
              "         [110.78529  , 111.78529  , 129.7853   ]],\n",
              "\n",
              "        [[ 14.03653  ,  13.03653  ,  18.03653  ],\n",
              "         [ 17.46753  ,  18.46753  ,  22.46753  ],\n",
              "         [  5.5158234,   9.515823 ,  12.515823 ],\n",
              "         ...,\n",
              "         [ 99.964294 , 100.964294 , 118.964294 ],\n",
              "         [ 98.45535  ,  99.45535  , 120.33035  ],\n",
              "         [108.694    , 109.694    , 127.694    ]],\n",
              "\n",
              "        [[ 12.540314 ,  11.540314 ,  16.540314 ],\n",
              "         [ 15.266235 ,  16.266235 ,  20.266235 ],\n",
              "         [  8.536392 ,  12.536392 ,  15.536392 ],\n",
              "         ...,\n",
              "         [ 94.12892  ,  95.12892  , 113.12892  ],\n",
              "         [ 91.54843  ,  92.54843  , 113.42343  ],\n",
              "         [109.89584  , 110.89584  , 128.89584  ]]],\n",
              "\n",
              "\n",
              "       [[[210.       , 221.       , 217.       ],\n",
              "         [210.375    , 221.375    , 217.375    ],\n",
              "         [212.25     , 223.25     , 219.25     ],\n",
              "         ...,\n",
              "         [211.35156  , 218.35156  , 210.35156  ],\n",
              "         [212.25     , 219.25     , 211.25     ],\n",
              "         [213.5      , 220.5      , 212.5      ]],\n",
              "\n",
              "        [[210.       , 221.       , 217.       ],\n",
              "         [210.375    , 221.375    , 217.375    ],\n",
              "         [212.25     , 223.25     , 219.25     ],\n",
              "         ...,\n",
              "         [217.75     , 224.75     , 216.75     ],\n",
              "         [219.19531  , 226.19531  , 218.19531  ],\n",
              "         [221.4375   , 228.4375   , 220.4375   ]],\n",
              "\n",
              "        [[210.       , 221.       , 217.       ],\n",
              "         [210.375    , 221.375    , 217.375    ],\n",
              "         [212.25     , 223.25     , 219.25     ],\n",
              "         ...,\n",
              "         [214.75     , 221.75     , 213.75     ],\n",
              "         [216.625    , 223.625    , 215.625    ],\n",
              "         [218.96094  , 225.96094  , 217.96094  ]],\n",
              "\n",
              "        ...,\n",
              "\n",
              "        [[147.72656  , 118.72656  ,  86.72656  ],\n",
              "         [139.36719  , 110.36719  ,  78.36719  ],\n",
              "         [137.25781  , 108.25781  ,  76.25781  ],\n",
              "         ...,\n",
              "         [166.       , 143.       , 127.       ],\n",
              "         [169.00781  , 146.00781  , 130.00781  ],\n",
              "         [162.32031  , 139.32031  , 123.32031  ]],\n",
              "\n",
              "        [[141.92188  , 112.921875 ,  80.921875 ],\n",
              "         [135.875    , 106.875    ,  74.875    ],\n",
              "         [134.625    , 105.625    ,  73.625    ],\n",
              "         ...,\n",
              "         [159.67188  , 136.92969  , 118.15625  ],\n",
              "         [162.99219  , 140.25     , 121.47656  ],\n",
              "         [163.17969  , 140.78125  , 120.97656  ]],\n",
              "\n",
              "        [[145.55469  , 116.55469  ,  84.55469  ],\n",
              "         [138.76562  , 109.765625 ,  77.765625 ],\n",
              "         [135.48438  , 106.484375 ,  74.484375 ],\n",
              "         ...,\n",
              "         [160.92969  , 138.92969  , 117.17969  ],\n",
              "         [160.42188  , 138.42188  , 115.96875  ],\n",
              "         [163.86719  , 141.86719  , 118.97656  ]]],\n",
              "\n",
              "\n",
              "       ...,\n",
              "\n",
              "\n",
              "       [[[196.735    , 189.735    , 173.735    ],\n",
              "         [196.735    , 189.735    , 173.735    ],\n",
              "         [196.       , 189.       , 173.       ],\n",
              "         ...,\n",
              "         [183.50389  , 176.50389  , 170.50389  ],\n",
              "         [183.41568  , 176.41568  , 170.41568  ],\n",
              "         [184.       , 177.       , 171.       ]],\n",
              "\n",
              "        [[196.       , 189.       , 173.       ],\n",
              "         [196.       , 189.       , 173.       ],\n",
              "         [196.795    , 189.795    , 173.795    ],\n",
              "         ...,\n",
              "         [184.       , 177.       , 171.       ],\n",
              "         [184.163    , 177.163    , 171.163    ],\n",
              "         [184.795    , 177.795    , 171.795    ]],\n",
              "\n",
              "        [[196.325    , 189.325    , 173.325    ],\n",
              "         [196.86162  , 189.86162  , 173.86162  ],\n",
              "         [197.10562  , 190.10562  , 174.10562  ],\n",
              "         ...,\n",
              "         [184.67499  , 177.67499  , 171.67499  ],\n",
              "         [184.13838  , 177.13838  , 171.13838  ],\n",
              "         [184.91386  , 177.91386  , 171.91386  ]],\n",
              "\n",
              "        ...,\n",
              "\n",
              "        [[191.65002  , 184.32501  , 173.34998  ],\n",
              "         [191.65002  , 184.32501  , 173.34998  ],\n",
              "         [192.43063  , 185.78061  , 173.4556   ],\n",
              "         ...,\n",
              "         [183.65002  , 177.78062  , 172.2275   ],\n",
              "         [183.       , 178.       , 172.       ],\n",
              "         [183.       , 178.       , 172.       ]],\n",
              "\n",
              "        [[191.20502  , 184.20502  , 174.20502  ],\n",
              "         [191.83702  , 184.83702  , 174.83702  ],\n",
              "         [192.20502  , 186.20502  , 174.20502  ],\n",
              "         ...,\n",
              "         [183.65002  , 177.67499  , 172.65002  ],\n",
              "         [183.       , 178.       , 172.       ],\n",
              "         [183.       , 178.       , 172.       ]],\n",
              "\n",
              "        [[192.       , 185.       , 175.       ],\n",
              "         [192.5843   , 185.5843   , 175.5843   ],\n",
              "         [193.       , 187.       , 175.       ],\n",
              "         ...,\n",
              "         [183.65002  , 177.67499  , 172.65002  ],\n",
              "         [183.       , 178.       , 172.       ],\n",
              "         [183.       , 178.       , 172.       ]]],\n",
              "\n",
              "\n",
              "       [[[255.       , 255.       , 255.       ],\n",
              "         [255.       , 255.       , 255.       ],\n",
              "         [255.       , 255.       , 255.       ],\n",
              "         ...,\n",
              "         [244.74812  , 243.445    , 242.02374  ],\n",
              "         [239.76816  , 240.1832   , 242.07764  ],\n",
              "         [234.62892  , 238.68886  , 236.18018  ]],\n",
              "\n",
              "        [[255.       , 255.       , 255.       ],\n",
              "         [255.       , 255.       , 255.       ],\n",
              "         [255.       , 255.       , 255.       ],\n",
              "         ...,\n",
              "         [251.01938  , 252.84625  , 252.11     ],\n",
              "         [234.55495  , 238.91487  , 241.98576  ],\n",
              "         [244.22433  , 251.6315   , 253.07483  ]],\n",
              "\n",
              "        [[255.       , 255.       , 255.       ],\n",
              "         [255.       , 255.       , 255.       ],\n",
              "         [255.       , 255.       , 255.       ],\n",
              "         ...,\n",
              "         [244.77188  , 249.075    , 246.59062  ],\n",
              "         [241.61961  , 246.81969  , 250.1198   ],\n",
              "         [225.5705   , 233.97052  , 238.54863  ]],\n",
              "\n",
              "        ...,\n",
              "\n",
              "        [[ 83.56669  , 130.26337  ,  59.214325 ],\n",
              "         [122.11061  , 167.04012  , 101.3571   ],\n",
              "         [ 91.04031  , 138.75949  ,  53.721527 ],\n",
              "         ...,\n",
              "         [ 99.94403  , 154.65656  ,  71.74716  ],\n",
              "         [ 76.24537  , 122.12334  ,  50.870487 ],\n",
              "         [ 94.02756  , 137.17746  ,  70.45261  ]],\n",
              "\n",
              "        [[ 91.67687  , 132.64062  ,  48.893097 ],\n",
              "         [100.25436  , 146.1938   ,  78.212814 ],\n",
              "         [ 85.58258  , 135.62613  ,  50.901398 ],\n",
              "         ...,\n",
              "         [ 89.14215  , 142.73274  ,  61.524033 ],\n",
              "         [ 83.05328  , 125.49103  ,  59.25336  ],\n",
              "         [ 79.68593  , 119.68593  ,  58.755215 ]],\n",
              "\n",
              "        [[ 91.946434 , 144.66225  ,  59.92684  ],\n",
              "         [ 83.225105 , 120.662865 ,  54.732174 ],\n",
              "         [146.8822   , 168.04742  , 117.988525 ],\n",
              "         ...,\n",
              "         [ 88.98822  , 141.98822  ,  61.948853 ],\n",
              "         [ 93.41878  , 141.11493  ,  67.868484 ],\n",
              "         [ 96.01235  , 146.51479  ,  73.20132  ]]],\n",
              "\n",
              "\n",
              "       [[[ 33.64     ,  26.08     ,  25.97     ],\n",
              "         [ 36.5      ,  28.3      ,  20.09     ],\n",
              "         [ 34.4      ,  32.25     ,  15.05     ],\n",
              "         ...,\n",
              "         [ 59.85     ,  41.35     ,  32.35     ],\n",
              "         [ 27.299854 ,  16.900074 ,  12.720007 ],\n",
              "         [ 27.480066 ,  25.980127 ,  18.6401   ]],\n",
              "\n",
              "        [[ 37.12     ,  28.6      ,  27.859999 ],\n",
              "         [ 36.2      ,  32.5      ,  23.81     ],\n",
              "         [ 40.55     ,  32.4      ,  18.65     ],\n",
              "         ...,\n",
              "         [ 57.6      ,  39.85     ,  31.3      ],\n",
              "         [ 24.239832 ,  14.110041 ,  10.650019 ],\n",
              "         [ 25.980103 ,  24.480164 ,  17.680115 ]],\n",
              "\n",
              "        [[ 37.55     ,  31.349998 ,  22.099998 ],\n",
              "         [ 41.35     ,  32.8      ,  24.85     ],\n",
              "         [ 40.25     ,  35.75     ,  23.       ],\n",
              "         ...,\n",
              "         [ 54.5      ,  39.5      ,  32.25     ],\n",
              "         [ 23.499817 ,  14.949982 ,  12.799927 ],\n",
              "         [ 21.450043 ,  19.750092 ,  14.150055 ]],\n",
              "\n",
              "        ...,\n",
              "\n",
              "        [[  9.3      ,   7.8000307,   7.299939 ],\n",
              "         [ 10.       ,   8.5000305,   7.999939 ],\n",
              "         [  9.       ,   8.       ,   6.       ],\n",
              "         ...,\n",
              "         [ 56.250717 ,  51.499847 ,  44.       ],\n",
              "         [ 54.450283 ,  48.200684 ,  38.950413 ],\n",
              "         [ 74.900345 ,  77.20068  ,  62.900654 ]],\n",
              "\n",
              "        [[  9.089996 ,   8.089996 ,   4.689972 ],\n",
              "         [  9.299988 ,   8.299988 ,   4.8999634],\n",
              "         [  9.       ,   8.       ,   6.       ],\n",
              "         ...,\n",
              "         [ 67.649994 ,  46.899963 ,  41.899963 ],\n",
              "         [ 62.990604 ,  68.091    ,  59.041115 ],\n",
              "         [ 77.55007  ,  82.989944 ,  79.70021  ]],\n",
              "\n",
              "        [[  8.099976 ,   7.0999756,   2.1999512],\n",
              "         [  8.909997 ,   7.9099975,   3.8199954],\n",
              "         [  9.       ,   7.549988 ,   6.9000244],\n",
              "         ...,\n",
              "         [ 52.649597 ,  51.85016  ,  41.900024 ],\n",
              "         [ 79.969864 ,  88.39974  ,  87.81034  ],\n",
              "         [ 76.2601   ,  75.969864 ,  92.30039  ]]]], dtype=float32)"
            ]
          },
          "metadata": {
            "tags": []
          },
          "execution_count": 35
        }
      ]
    },
    {
      "cell_type": "code",
      "metadata": {
        "id": "eDud2yZchEIS"
      },
      "source": [
        "from sklearn.metrics import roc_curve\n",
        "y_pred_keras = model.predict(X_test).ravel()\n",
        "fpr_keras, tpr_keras, thresholds_keras = roc_curve(y_test, y_pred_keras)"
      ],
      "id": "eDud2yZchEIS",
      "execution_count": 36,
      "outputs": []
    },
    {
      "cell_type": "code",
      "metadata": {
        "id": "kwzkjX76k6Li"
      },
      "source": [
        "from sklearn.metrics import auc\n",
        "auc_keras = auc(fpr_keras, tpr_keras)"
      ],
      "id": "kwzkjX76k6Li",
      "execution_count": 37,
      "outputs": []
    },
    {
      "cell_type": "code",
      "metadata": {
        "id": "gvM2KDaBlFBQ",
        "colab": {
          "base_uri": "https://localhost:8080/",
          "height": 295
        },
        "outputId": "765e1113-4fe7-4892-d319-c9c55d85e119"
      },
      "source": [
        "import matplotlib.pyplot as plt\n",
        "\n",
        "plt.figure(1)\n",
        "plt.plot([0, 1], [0, 1], 'k--')\n",
        "plt.plot(fpr_keras, tpr_keras, label='Keras (area = {:.3f})'.format(auc_keras))\n",
        "# plt.plot(fpr_rf, tpr_rf, label='RF (area = {:.3f})'.format(auc_rf))\n",
        "plt.xlabel('False positive rate')\n",
        "plt.ylabel('True positive rate')\n",
        "plt.title('ROC curve')\n",
        "plt.legend(loc='best')\n",
        "plt.show()"
      ],
      "id": "gvM2KDaBlFBQ",
      "execution_count": 38,
      "outputs": [
        {
          "output_type": "display_data",
          "data": {
            "image/png": "[encoded data removed]",
            "text/plain": [
              "<Figure size 432x288 with 1 Axes>"
            ]
          },
          "metadata": {
            "tags": [],
            "needs_background": "light"
          }
        }
      ]
    }
  ]
}